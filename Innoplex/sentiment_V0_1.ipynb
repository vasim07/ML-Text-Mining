{
  "nbformat": 4,
  "nbformat_minor": 0,
  "metadata": {
    "colab": {
      "name": "sentiment V0.1.ipynb",
      "provenance": [],
      "collapsed_sections": [
        "LIr82FI6kylK",
        "-8RfdmJcvA5l",
        "1CwMozOik13K",
        "oWDE2fUvk4Gi",
        "a2LwraaKk-f2",
        "POPDGccol9av",
        "TUu75iqsy2VW",
        "wMG4MTEvza_Z",
        "7bUgq588y6cz",
        "zxBRjn_R1tnL",
        "sf0xtdx_0OM8",
        "rU9QzdS4Qzgi",
        "RARcaL1Iy88i",
        "cVcYEsZhy_si",
        "6sN6540ezFEh",
        "FiK9TDZ80JTa",
        "0bUKbEY00WjY",
        "W4S_DeexzHOp",
        "-gk4sQqE0J4Q",
        "zAxVM-R40XKX",
        "pvtU9jGszJGQ",
        "GrzRndbU0LVT",
        "AzzWA0wb0Xt2",
        "yyUOr-dt0YkB",
        "0Q1tsQyYzTYS"
      ]
    },
    "kernelspec": {
      "name": "python3",
      "display_name": "Python 3"
    }
  },
  "cells": [
    {
      "cell_type": "markdown",
      "metadata": {
        "id": "K-6dPY3MkPmu"
      },
      "source": [
        "## Initial Setup"
      ]
    },
    {
      "cell_type": "code",
      "metadata": {
        "id": "GveHu4qrkDi6"
      },
      "source": [
        "%%capture\n",
        "#%%script false\n",
        "!pip install shap==0.23.0\n",
        "!pip install xgboost==0.82\n",
        "!pip install catboost\n",
        "!pip install lightgbm==2.2.4\n",
        "#!pip install tensorboardcolab\n",
        "!pip install seaborn==0.9.0\n",
        "!pip install pandas==0.24.2\n",
        "!pip install numpy==1.16.2\n",
        "!pip install eli5\n",
        "#!pip install scikit-optimize==0.6\n",
        "\n",
        "#Restart Runtime"
      ],
      "execution_count": null,
      "outputs": []
    },
    {
      "cell_type": "markdown",
      "metadata": {
        "id": "FKenLVA3kTTb"
      },
      "source": [
        "## Data"
      ]
    },
    {
      "cell_type": "code",
      "metadata": {
        "id": "iMu0XDeTkS0F"
      },
      "source": [
        "import pandas as pd\n",
        "import numpy as np\n",
        "import matplotlib.pyplot as plt\n",
        "import seaborn as sns\n",
        "%matplotlib inline\n",
        "plt.rc('figure', figsize=(20.0, 6.0))\n",
        "\n",
        "import shap\n",
        "from tqdm import tqdm_notebook as tqdm\n",
        "\n",
        "#from sklearn.externals import joblib\n",
        "from sklearn.model_selection import train_test_split\n",
        "#from sklearn.model_selection import StratifiedShuffleSplit #, RepeatedKFold, StratifiedKFold, RepeatedStratifiedKFold\n",
        "\n",
        "import xgboost as xgb\n",
        "import lightgbm as lgb\n",
        "import catboost as cat\n",
        "\n",
        "#import sklearn.svm as svm\n",
        "#import sklearn.neighbors as knn\n",
        "\n",
        "\n",
        "from sklearn.model_selection import cross_val_score\n",
        "from sklearn.model_selection import GridSearchCV\n",
        "from sklearn.metrics import classification_report, confusion_matrix, roc_curve, roc_auc_score, auc, f1_score\n",
        "#from sklearn.metrics import mean_squared_error #, mean_squared_log_error"
      ],
      "execution_count": null,
      "outputs": []
    },
    {
      "cell_type": "code",
      "metadata": {
        "id": "Bl44tmIbRZ7K",
        "colab": {
          "base_uri": "https://localhost:8080/",
          "height": 50
        },
        "outputId": "409b6b7f-73e3-494e-baf5-71da4c05fa97"
      },
      "source": [
        "np.array([[\"TN\", \"FP\"],[\"FN\", \"TP\"]])"
      ],
      "execution_count": null,
      "outputs": [
        {
          "output_type": "execute_result",
          "data": {
            "text/plain": [
              "array([['TN', 'FP'],\n",
              "       ['FN', 'TP']], dtype='<U2')"
            ]
          },
          "metadata": {
            "tags": []
          },
          "execution_count": 2
        }
      ]
    },
    {
      "cell_type": "code",
      "metadata": {
        "id": "ciFcf1Vwkrhk"
      },
      "source": [
        "train_data_og = pd.read_csv(\"https://drive.google.com/uc?export=download&id=1qxyADnYxoByhG86jZ8aHDjmvil2r9SRN\")\n",
        "sub_data_og = pd.read_csv(\"https://drive.google.com/uc?export=download&id=1indvevIun1vXhQJs8kJ4Hri3RgWFfhrU\")"
      ],
      "execution_count": null,
      "outputs": []
    },
    {
      "cell_type": "code",
      "metadata": {
        "id": "w6me7fxE7NCs",
        "colab": {
          "base_uri": "https://localhost:8080/",
          "height": 87
        },
        "outputId": "103e5df9-82e9-4800-e477-51b8c6a938af"
      },
      "source": [
        "f1_score(train_data_og.sentiment, np.ones(5279), average = \"macro\")"
      ],
      "execution_count": null,
      "outputs": [
        {
          "output_type": "stream",
          "text": [
            "/usr/local/lib/python3.6/dist-packages/sklearn/metrics/classification.py:1437: UndefinedMetricWarning: F-score is ill-defined and being set to 0.0 in labels with no predicted samples.\n",
            "  'precision', 'predicted', average, warn_for)\n"
          ],
          "name": "stderr"
        },
        {
          "output_type": "execute_result",
          "data": {
            "text/plain": [
              "0.09123610202746892"
            ]
          },
          "metadata": {
            "tags": []
          },
          "execution_count": 5
        }
      ]
    },
    {
      "cell_type": "markdown",
      "metadata": {
        "id": "utAyB_I4kvlr"
      },
      "source": [
        "### Manipulation\n",
        "\n",
        "Mean Encoding.  \n",
        "Divide and Multiply columns.  \n",
        "\n",
        "\n",
        "Time Series  \n",
        "Date parts  \n",
        "Lag values  \n",
        "Difference between dates "
      ]
    },
    {
      "cell_type": "code",
      "metadata": {
        "id": "GyPjTXGaUfNa",
        "colab": {
          "base_uri": "https://localhost:8080/",
          "height": 343
        },
        "outputId": "9e548f68-93a3-4fa7-adb0-425a8ad972fb"
      },
      "source": [
        "# 0 positive, 1 negative and 2 neutral\n",
        "def clean_data(dataset):\n",
        "    \n",
        "    op_set_1 = (dataset\n",
        "                    .assign( Length = dataset.text.str.lower().str.len() )\n",
        "                    .assign( Punc = dataset.text.str.lower().str.len() - dataset.text.str.lower().str.count(\"[a-z0-9]\") )\n",
        "               )\n",
        "    \n",
        "    return op_set_1\n",
        "\n",
        "train_data = clean_data(train_data_og)\n",
        "train_data.head(10)"
      ],
      "execution_count": null,
      "outputs": [
        {
          "output_type": "execute_result",
          "data": {
            "text/html": [
              "<div>\n",
              "<style scoped>\n",
              "    .dataframe tbody tr th:only-of-type {\n",
              "        vertical-align: middle;\n",
              "    }\n",
              "\n",
              "    .dataframe tbody tr th {\n",
              "        vertical-align: top;\n",
              "    }\n",
              "\n",
              "    .dataframe thead th {\n",
              "        text-align: right;\n",
              "    }\n",
              "</style>\n",
              "<table border=\"1\" class=\"dataframe\">\n",
              "  <thead>\n",
              "    <tr style=\"text-align: right;\">\n",
              "      <th></th>\n",
              "      <th>unique_hash</th>\n",
              "      <th>text</th>\n",
              "      <th>drug</th>\n",
              "      <th>sentiment</th>\n",
              "      <th>Length</th>\n",
              "      <th>Punc</th>\n",
              "    </tr>\n",
              "  </thead>\n",
              "  <tbody>\n",
              "    <tr>\n",
              "      <th>0</th>\n",
              "      <td>2e180be4c9214c1f5ab51fd8cc32bc80c9f612e0</td>\n",
              "      <td>Autoimmune diseases tend to come in clusters. ...</td>\n",
              "      <td>gilenya</td>\n",
              "      <td>2</td>\n",
              "      <td>404</td>\n",
              "      <td>97</td>\n",
              "    </tr>\n",
              "    <tr>\n",
              "      <th>1</th>\n",
              "      <td>9eba8f80e7e20f3a2f48685530748fbfa95943e4</td>\n",
              "      <td>I can completely understand why you’d want to ...</td>\n",
              "      <td>gilenya</td>\n",
              "      <td>2</td>\n",
              "      <td>1184</td>\n",
              "      <td>245</td>\n",
              "    </tr>\n",
              "    <tr>\n",
              "      <th>2</th>\n",
              "      <td>fe809672251f6bd0d986e00380f48d047c7e7b76</td>\n",
              "      <td>Interesting that it only targets S1P-1/5 recep...</td>\n",
              "      <td>fingolimod</td>\n",
              "      <td>2</td>\n",
              "      <td>780</td>\n",
              "      <td>191</td>\n",
              "    </tr>\n",
              "    <tr>\n",
              "      <th>3</th>\n",
              "      <td>bd22104dfa9ec80db4099523e03fae7a52735eb6</td>\n",
              "      <td>Very interesting, grand merci. Now I wonder wh...</td>\n",
              "      <td>ocrevus</td>\n",
              "      <td>2</td>\n",
              "      <td>124</td>\n",
              "      <td>23</td>\n",
              "    </tr>\n",
              "    <tr>\n",
              "      <th>4</th>\n",
              "      <td>b227688381f9b25e5b65109dd00f7f895e838249</td>\n",
              "      <td>Hi everybody, My latest MRI results for Brain ...</td>\n",
              "      <td>gilenya</td>\n",
              "      <td>1</td>\n",
              "      <td>612</td>\n",
              "      <td>133</td>\n",
              "    </tr>\n",
              "    <tr>\n",
              "      <th>5</th>\n",
              "      <td>a043780c757966243779bf3c0d11bf6eef721971</td>\n",
              "      <td>I can’t give you advice about Lemtrada because...</td>\n",
              "      <td>cladribine</td>\n",
              "      <td>2</td>\n",
              "      <td>285</td>\n",
              "      <td>57</td>\n",
              "    </tr>\n",
              "    <tr>\n",
              "      <th>6</th>\n",
              "      <td>be5a13376933a7f9bbf8e801c31691092f63260a</td>\n",
              "      <td>Reply posted for JessZidek. Hi Jess Sorry to r...</td>\n",
              "      <td>humira</td>\n",
              "      <td>0</td>\n",
              "      <td>755</td>\n",
              "      <td>145</td>\n",
              "    </tr>\n",
              "    <tr>\n",
              "      <th>7</th>\n",
              "      <td>08c3c0c702fc97d290204b37798ac62005da5626</td>\n",
              "      <td>Well as expected my Neurologist wants me to st...</td>\n",
              "      <td>gilenya</td>\n",
              "      <td>2</td>\n",
              "      <td>723</td>\n",
              "      <td>158</td>\n",
              "    </tr>\n",
              "    <tr>\n",
              "      <th>8</th>\n",
              "      <td>8fd3d7ad80791c9343e5cf8a83bd1adf6577d516</td>\n",
              "      <td>Why do you think that FIngolimod was such a mi...</td>\n",
              "      <td>fingolimod</td>\n",
              "      <td>1</td>\n",
              "      <td>296</td>\n",
              "      <td>56</td>\n",
              "    </tr>\n",
              "    <tr>\n",
              "      <th>9</th>\n",
              "      <td>793c5af7cc8332df17eb602247d886fbd1c80f89</td>\n",
              "      <td>Thank you so much…I’m learning a lot here at G...</td>\n",
              "      <td>tagrisso</td>\n",
              "      <td>2</td>\n",
              "      <td>927</td>\n",
              "      <td>199</td>\n",
              "    </tr>\n",
              "  </tbody>\n",
              "</table>\n",
              "</div>"
            ],
            "text/plain": [
              "                                unique_hash  ... Punc\n",
              "0  2e180be4c9214c1f5ab51fd8cc32bc80c9f612e0  ...   97\n",
              "1  9eba8f80e7e20f3a2f48685530748fbfa95943e4  ...  245\n",
              "2  fe809672251f6bd0d986e00380f48d047c7e7b76  ...  191\n",
              "3  bd22104dfa9ec80db4099523e03fae7a52735eb6  ...   23\n",
              "4  b227688381f9b25e5b65109dd00f7f895e838249  ...  133\n",
              "5  a043780c757966243779bf3c0d11bf6eef721971  ...   57\n",
              "6  be5a13376933a7f9bbf8e801c31691092f63260a  ...  145\n",
              "7  08c3c0c702fc97d290204b37798ac62005da5626  ...  158\n",
              "8  8fd3d7ad80791c9343e5cf8a83bd1adf6577d516  ...   56\n",
              "9  793c5af7cc8332df17eb602247d886fbd1c80f89  ...  199\n",
              "\n",
              "[10 rows x 6 columns]"
            ]
          },
          "metadata": {
            "tags": []
          },
          "execution_count": 9
        }
      ]
    },
    {
      "cell_type": "code",
      "metadata": {
        "id": "AUCF0nwfZpE8",
        "colab": {
          "base_uri": "https://localhost:8080/",
          "height": 1000
        },
        "outputId": "5b4b3767-4c01-42e0-80e6-e44159953fad"
      },
      "source": [
        "train_data.query(\"sentiment == 0\")"
      ],
      "execution_count": null,
      "outputs": [
        {
          "output_type": "execute_result",
          "data": {
            "text/html": [
              "<div>\n",
              "<style scoped>\n",
              "    .dataframe tbody tr th:only-of-type {\n",
              "        vertical-align: middle;\n",
              "    }\n",
              "\n",
              "    .dataframe tbody tr th {\n",
              "        vertical-align: top;\n",
              "    }\n",
              "\n",
              "    .dataframe thead th {\n",
              "        text-align: right;\n",
              "    }\n",
              "</style>\n",
              "<table border=\"1\" class=\"dataframe\">\n",
              "  <thead>\n",
              "    <tr style=\"text-align: right;\">\n",
              "      <th></th>\n",
              "      <th>unique_hash</th>\n",
              "      <th>text</th>\n",
              "      <th>drug</th>\n",
              "      <th>sentiment</th>\n",
              "      <th>Length</th>\n",
              "      <th>Punc</th>\n",
              "    </tr>\n",
              "  </thead>\n",
              "  <tbody>\n",
              "    <tr>\n",
              "      <th>6</th>\n",
              "      <td>be5a13376933a7f9bbf8e801c31691092f63260a</td>\n",
              "      <td>Reply posted for JessZidek. Hi Jess Sorry to r...</td>\n",
              "      <td>humira</td>\n",
              "      <td>0</td>\n",
              "      <td>755</td>\n",
              "      <td>145</td>\n",
              "    </tr>\n",
              "    <tr>\n",
              "      <th>28</th>\n",
              "      <td>e8f39b50683bb1b94689e8e462bdcd1aff331ee1</td>\n",
              "      <td>Last Updated: January 01, 2017.  Share | Comme...</td>\n",
              "      <td>ocrelizumab</td>\n",
              "      <td>0</td>\n",
              "      <td>18499</td>\n",
              "      <td>3650</td>\n",
              "    </tr>\n",
              "    <tr>\n",
              "      <th>29</th>\n",
              "      <td>c2df2a0e70805bb1a17305e2ac137aeae26d424a</td>\n",
              "      <td>Hi I was on rebif for about a year – rotate yo...</td>\n",
              "      <td>fingolimod</td>\n",
              "      <td>0</td>\n",
              "      <td>263</td>\n",
              "      <td>58</td>\n",
              "    </tr>\n",
              "    <tr>\n",
              "      <th>34</th>\n",
              "      <td>603c2f1612eeabcaac016b6da0df4117b6a8ccd8</td>\n",
              "      <td>No problem. I know how hard and lonely this jo...</td>\n",
              "      <td>tecentriq</td>\n",
              "      <td>0</td>\n",
              "      <td>1294</td>\n",
              "      <td>278</td>\n",
              "    </tr>\n",
              "    <tr>\n",
              "      <th>42</th>\n",
              "      <td>918b3d83f17c334962f30974f2ff1f16630eebf0</td>\n",
              "      <td>Conclusion: These real-life results suggest th...</td>\n",
              "      <td>dexamethasone implant</td>\n",
              "      <td>0</td>\n",
              "      <td>170</td>\n",
              "      <td>26</td>\n",
              "    </tr>\n",
              "    <tr>\n",
              "      <th>60</th>\n",
              "      <td>92b34902563dbaa5352fad47791aa23daafde08b</td>\n",
              "      <td>At a glance, Cladribine looks significantly be...</td>\n",
              "      <td>cladribine</td>\n",
              "      <td>0</td>\n",
              "      <td>75</td>\n",
              "      <td>12</td>\n",
              "    </tr>\n",
              "    <tr>\n",
              "      <th>63</th>\n",
              "      <td>5464b1ed8ae3bb6cf2a50ce92b997af10ff374a5</td>\n",
              "      <td>Hi Janine, Thanks for your response but due to...</td>\n",
              "      <td>tagrisso</td>\n",
              "      <td>0</td>\n",
              "      <td>1003</td>\n",
              "      <td>205</td>\n",
              "    </tr>\n",
              "    <tr>\n",
              "      <th>75</th>\n",
              "      <td>358e2b9747c7ddc7e14f181bdafffd984a07f92f</td>\n",
              "      <td>Health Canada has approved Mavenclad as a ther...</td>\n",
              "      <td>mavenclad</td>\n",
              "      <td>0</td>\n",
              "      <td>285</td>\n",
              "      <td>49</td>\n",
              "    </tr>\n",
              "    <tr>\n",
              "      <th>77</th>\n",
              "      <td>fd07fdfd6463392475fa70912d0aeaee743c80b9</td>\n",
              "      <td>I am on a Lag3 plus Opdivo clinical trial. I h...</td>\n",
              "      <td>opdivo</td>\n",
              "      <td>0</td>\n",
              "      <td>454</td>\n",
              "      <td>107</td>\n",
              "    </tr>\n",
              "    <tr>\n",
              "      <th>87</th>\n",
              "      <td>7cafe0a71be5ce964c4f1326068be7092b876cef</td>\n",
              "      <td>My 45 year old husband was diagnosed with PPMS...</td>\n",
              "      <td>ocrevus</td>\n",
              "      <td>0</td>\n",
              "      <td>314</td>\n",
              "      <td>60</td>\n",
              "    </tr>\n",
              "    <tr>\n",
              "      <th>88</th>\n",
              "      <td>af3146ca66f2af1ead3dc87099524f5d0c149fcb</td>\n",
              "      <td>December 7, 2018 Immunotherapy and TNBC: The B...</td>\n",
              "      <td>atezolizumab</td>\n",
              "      <td>0</td>\n",
              "      <td>2823</td>\n",
              "      <td>498</td>\n",
              "    </tr>\n",
              "    <tr>\n",
              "      <th>95</th>\n",
              "      <td>696d5a518430ba77695c4c2f699d6a809ca8e341</td>\n",
              "      <td>Hi @beachgirl and welcome. Gilenya seems to be...</td>\n",
              "      <td>gilenya</td>\n",
              "      <td>0</td>\n",
              "      <td>218</td>\n",
              "      <td>43</td>\n",
              "    </tr>\n",
              "    <tr>\n",
              "      <th>107</th>\n",
              "      <td>6416b65b155fba1b4088c0a43925a24b84f90a0e</td>\n",
              "      <td>FEBRUARY 19, 2016 There is finally some progre...</td>\n",
              "      <td>ocrelizumab</td>\n",
              "      <td>0</td>\n",
              "      <td>2503</td>\n",
              "      <td>534</td>\n",
              "    </tr>\n",
              "    <tr>\n",
              "      <th>110</th>\n",
              "      <td>3e2d36128d917c533d7b01a220c02ac20e71d3f2</td>\n",
              "      <td>Hello, My name is Patrick. I am a 25 year-old ...</td>\n",
              "      <td>gilenya</td>\n",
              "      <td>0</td>\n",
              "      <td>4688</td>\n",
              "      <td>1025</td>\n",
              "    </tr>\n",
              "    <tr>\n",
              "      <th>127</th>\n",
              "      <td>53c2e76ef5ee7e54fa83a6252391dd048012b77d</td>\n",
              "      <td>So I’m off again tomorrow for an Ocrevus infus...</td>\n",
              "      <td>ocrevus</td>\n",
              "      <td>0</td>\n",
              "      <td>566</td>\n",
              "      <td>124</td>\n",
              "    </tr>\n",
              "    <tr>\n",
              "      <th>128</th>\n",
              "      <td>ee27034124aceadc9dd16577c8fae5da68b48013</td>\n",
              "      <td>Ocrevus is the first proven medication to slow...</td>\n",
              "      <td>ocrevus</td>\n",
              "      <td>0</td>\n",
              "      <td>520</td>\n",
              "      <td>114</td>\n",
              "    </tr>\n",
              "    <tr>\n",
              "      <th>131</th>\n",
              "      <td>4e96c3ca5f909a61b1c319568ff004dfa6cd06f0</td>\n",
              "      <td>I had alimta 7 years ago.  Along with it I had...</td>\n",
              "      <td>alimta</td>\n",
              "      <td>0</td>\n",
              "      <td>707</td>\n",
              "      <td>173</td>\n",
              "    </tr>\n",
              "    <tr>\n",
              "      <th>134</th>\n",
              "      <td>13019bbb1ff7d4e43093b678e5772d39173a0f04</td>\n",
              "      <td>I think efficacy wise they are roughly the sam...</td>\n",
              "      <td>ocrevus</td>\n",
              "      <td>0</td>\n",
              "      <td>195</td>\n",
              "      <td>35</td>\n",
              "    </tr>\n",
              "    <tr>\n",
              "      <th>141</th>\n",
              "      <td>972ef6b1f9e091fa3fcdc1406f8b1c4b94074a18</td>\n",
              "      <td>Hi Emily, It’s good to hear of your husband’s ...</td>\n",
              "      <td>tarceva</td>\n",
              "      <td>0</td>\n",
              "      <td>1803</td>\n",
              "      <td>353</td>\n",
              "    </tr>\n",
              "    <tr>\n",
              "      <th>155</th>\n",
              "      <td>eacc702d90b62d7d17a3c8b67f513957929b59c7</td>\n",
              "      <td>Please do a Crowdacure for Cladribine! Getting...</td>\n",
              "      <td>cladribine</td>\n",
              "      <td>0</td>\n",
              "      <td>154</td>\n",
              "      <td>28</td>\n",
              "    </tr>\n",
              "    <tr>\n",
              "      <th>161</th>\n",
              "      <td>e8ee3fa0068fccecb7f1b933c58052c364752edb</td>\n",
              "      <td>I have been getting Keytruda treatments for 3 ...</td>\n",
              "      <td>keytruda</td>\n",
              "      <td>0</td>\n",
              "      <td>244</td>\n",
              "      <td>58</td>\n",
              "    </tr>\n",
              "    <tr>\n",
              "      <th>163</th>\n",
              "      <td>1fa5f8871de5e590106253778ba83d38a2ce8ecb</td>\n",
              "      <td>Same thing here ... my first chemo with carbop...</td>\n",
              "      <td>opdivo</td>\n",
              "      <td>0</td>\n",
              "      <td>523</td>\n",
              "      <td>111</td>\n",
              "    </tr>\n",
              "    <tr>\n",
              "      <th>199</th>\n",
              "      <td>d3d0ce417ba4d6b618d79f85289e1a814a61e1f7</td>\n",
              "      <td>If you’ve just been  diagnosed with multiple s...</td>\n",
              "      <td>gilenya</td>\n",
              "      <td>0</td>\n",
              "      <td>7125</td>\n",
              "      <td>1371</td>\n",
              "    </tr>\n",
              "    <tr>\n",
              "      <th>213</th>\n",
              "      <td>e077873dc95f309b8765c3d1a303be50012c1eee</td>\n",
              "      <td>@miapi , your Neuro is correct to be reticent ...</td>\n",
              "      <td>cladribine</td>\n",
              "      <td>0</td>\n",
              "      <td>238</td>\n",
              "      <td>55</td>\n",
              "    </tr>\n",
              "    <tr>\n",
              "      <th>219</th>\n",
              "      <td>d05658f2d94fd0c9c2d435d810480ba514b43567</td>\n",
              "      <td>notsosicklygirl - i’m pretty sure the positive...</td>\n",
              "      <td>remicade</td>\n",
              "      <td>0</td>\n",
              "      <td>972</td>\n",
              "      <td>204</td>\n",
              "    </tr>\n",
              "    <tr>\n",
              "      <th>220</th>\n",
              "      <td>410a94077ea4738d132cb88730bb321599404bc0</td>\n",
              "      <td>Since it seems like you are in the US consider...</td>\n",
              "      <td>ocrevus</td>\n",
              "      <td>0</td>\n",
              "      <td>248</td>\n",
              "      <td>51</td>\n",
              "    </tr>\n",
              "    <tr>\n",
              "      <th>226</th>\n",
              "      <td>8cebc867de55073e2e00da908665ba7b19d777af</td>\n",
              "      <td>I realize that this is a rather late response ...</td>\n",
              "      <td>tarceva</td>\n",
              "      <td>0</td>\n",
              "      <td>1613</td>\n",
              "      <td>337</td>\n",
              "    </tr>\n",
              "    <tr>\n",
              "      <th>252</th>\n",
              "      <td>a9c015430158360a0c7d3975f9947b40ace4c545</td>\n",
              "      <td>Paul: So the other question would be about you...</td>\n",
              "      <td>ocrelizumab</td>\n",
              "      <td>0</td>\n",
              "      <td>2088</td>\n",
              "      <td>443</td>\n",
              "    </tr>\n",
              "    <tr>\n",
              "      <th>257</th>\n",
              "      <td>8976f6887cb091d57273594ef7b73b7655264ccd</td>\n",
              "      <td>Hi bfarz, Congratulations on the great scan re...</td>\n",
              "      <td>tagrisso</td>\n",
              "      <td>0</td>\n",
              "      <td>997</td>\n",
              "      <td>190</td>\n",
              "    </tr>\n",
              "    <tr>\n",
              "      <th>280</th>\n",
              "      <td>b437836d3dd17e0e8c0c35ce2b482cef8bd7776e</td>\n",
              "      <td>thanks for your reply. is the off label intrav...</td>\n",
              "      <td>ocrelizumab</td>\n",
              "      <td>0</td>\n",
              "      <td>711</td>\n",
              "      <td>144</td>\n",
              "    </tr>\n",
              "    <tr>\n",
              "      <th>...</th>\n",
              "      <td>...</td>\n",
              "      <td>...</td>\n",
              "      <td>...</td>\n",
              "      <td>...</td>\n",
              "      <td>...</td>\n",
              "      <td>...</td>\n",
              "    </tr>\n",
              "    <tr>\n",
              "      <th>4985</th>\n",
              "      <td>fec94560b864811488ff7d32b5529ed77fa97b9f</td>\n",
              "      <td>Thanks for the kind words LexieCat. I know he ...</td>\n",
              "      <td>tecentriq</td>\n",
              "      <td>0</td>\n",
              "      <td>286</td>\n",
              "      <td>60</td>\n",
              "    </tr>\n",
              "    <tr>\n",
              "      <th>4993</th>\n",
              "      <td>92b194161caaf76e0eaf130a5f8907dc71afbd29</td>\n",
              "      <td>Hi @im24 I am starting Lemtrada in Feb from Gi...</td>\n",
              "      <td>gilenya</td>\n",
              "      <td>0</td>\n",
              "      <td>349</td>\n",
              "      <td>81</td>\n",
              "    </tr>\n",
              "    <tr>\n",
              "      <th>4997</th>\n",
              "      <td>0437d794556e353e1e05a14422ed6b39c9441d2f</td>\n",
              "      <td>Here’s a few highlights of the meeting: Multip...</td>\n",
              "      <td>ocrelizumab</td>\n",
              "      <td>0</td>\n",
              "      <td>1840</td>\n",
              "      <td>326</td>\n",
              "    </tr>\n",
              "    <tr>\n",
              "      <th>5005</th>\n",
              "      <td>62c4c3e51b884d3dea50c971cd74bdea2b5f7d74</td>\n",
              "      <td>Maybe we need a comparison with the Mainstream...</td>\n",
              "      <td>ocrevus</td>\n",
              "      <td>0</td>\n",
              "      <td>1393</td>\n",
              "      <td>287</td>\n",
              "    </tr>\n",
              "    <tr>\n",
              "      <th>5009</th>\n",
              "      <td>53fcd44f1fc1f5bcce739874490c47158b24af5a</td>\n",
              "      <td>I’ve already had my starting dose. Jan 24 I ge...</td>\n",
              "      <td>ocrevus</td>\n",
              "      <td>0</td>\n",
              "      <td>253</td>\n",
              "      <td>64</td>\n",
              "    </tr>\n",
              "    <tr>\n",
              "      <th>5032</th>\n",
              "      <td>8339d49ef3d40ed605938a4044955b8d4af89591</td>\n",
              "      <td>This was an insurance request. Probably becaus...</td>\n",
              "      <td>entyvio</td>\n",
              "      <td>0</td>\n",
              "      <td>898</td>\n",
              "      <td>198</td>\n",
              "    </tr>\n",
              "    <tr>\n",
              "      <th>5045</th>\n",
              "      <td>76e8b122a154e5c5d1786c94d29d1cca55b49ddb</td>\n",
              "      <td>Last Updated: January 01, 2017.  Share | Comme...</td>\n",
              "      <td>ocrelizumab</td>\n",
              "      <td>0</td>\n",
              "      <td>34034</td>\n",
              "      <td>6660</td>\n",
              "    </tr>\n",
              "    <tr>\n",
              "      <th>5050</th>\n",
              "      <td>2e8be9ee593e2df443629118cddacfb48345124b</td>\n",
              "      <td>The term stage of treatment isn’t used in the ...</td>\n",
              "      <td>tarceva</td>\n",
              "      <td>0</td>\n",
              "      <td>1725</td>\n",
              "      <td>364</td>\n",
              "    </tr>\n",
              "    <tr>\n",
              "      <th>5056</th>\n",
              "      <td>5220f441b933a39eab9b33d50dcb0b0114fb8099</td>\n",
              "      <td>My claims above are easily verifiable; you can...</td>\n",
              "      <td>ocrelizumab</td>\n",
              "      <td>0</td>\n",
              "      <td>1011</td>\n",
              "      <td>195</td>\n",
              "    </tr>\n",
              "    <tr>\n",
              "      <th>5065</th>\n",
              "      <td>97fa9ce7fc99013395d1822f7896fc6b0b52054a</td>\n",
              "      <td>Hi everyone, hoping this may add more info for...</td>\n",
              "      <td>keytruda</td>\n",
              "      <td>0</td>\n",
              "      <td>622</td>\n",
              "      <td>133</td>\n",
              "    </tr>\n",
              "    <tr>\n",
              "      <th>5089</th>\n",
              "      <td>aa0dd238554ad86921ad43f67014928300b73755</td>\n",
              "      <td>– In the clinical opinion of Edward V. Loftus ...</td>\n",
              "      <td>ustekinumab</td>\n",
              "      <td>0</td>\n",
              "      <td>8282</td>\n",
              "      <td>1653</td>\n",
              "    </tr>\n",
              "    <tr>\n",
              "      <th>5090</th>\n",
              "      <td>e4e710c55213dc786797a889901b97e3a756b078</td>\n",
              "      <td>I thought I would post a few quotes from the f...</td>\n",
              "      <td>cladribine</td>\n",
              "      <td>0</td>\n",
              "      <td>1130</td>\n",
              "      <td>236</td>\n",
              "    </tr>\n",
              "    <tr>\n",
              "      <th>5118</th>\n",
              "      <td>2e0b9e15f5ae2fb7e6b5c7eecdff6a967b566a16</td>\n",
              "      <td>Good luck with your wife and God bless.</td>\n",
              "      <td>opdivo</td>\n",
              "      <td>0</td>\n",
              "      <td>40</td>\n",
              "      <td>9</td>\n",
              "    </tr>\n",
              "    <tr>\n",
              "      <th>5150</th>\n",
              "      <td>4b53a7c8114d7bd3adabe6f7a66ec1b75a11c71e</td>\n",
              "      <td>Hi @marlon_dagg , well, at least you know, and...</td>\n",
              "      <td>ocrevus</td>\n",
              "      <td>0</td>\n",
              "      <td>267</td>\n",
              "      <td>62</td>\n",
              "    </tr>\n",
              "    <tr>\n",
              "      <th>5162</th>\n",
              "      <td>3500f26649531bc23340a0063b48440b73335320</td>\n",
              "      <td>I think Cladribine is a drug for SPMS, and mos...</td>\n",
              "      <td>cladribine</td>\n",
              "      <td>0</td>\n",
              "      <td>1206</td>\n",
              "      <td>234</td>\n",
              "    </tr>\n",
              "    <tr>\n",
              "      <th>5169</th>\n",
              "      <td>698dda78f95bf061939a4eb3756a8705d73a9a96</td>\n",
              "      <td>I was diagnosed with Crohns disease in march 2...</td>\n",
              "      <td>humira</td>\n",
              "      <td>0</td>\n",
              "      <td>1052</td>\n",
              "      <td>187</td>\n",
              "    </tr>\n",
              "    <tr>\n",
              "      <th>5170</th>\n",
              "      <td>88d92f24cf3edda1246700c0c4ef1b02bdf0cf90</td>\n",
              "      <td>Hope it all goes well for you! The Entyvio wor...</td>\n",
              "      <td>entyvio</td>\n",
              "      <td>0</td>\n",
              "      <td>361</td>\n",
              "      <td>78</td>\n",
              "    </tr>\n",
              "    <tr>\n",
              "      <th>5180</th>\n",
              "      <td>3e7ea74cd1b4091f85637b4b0a93bf570afd3f8f</td>\n",
              "      <td>My father has been suffering from Stg 4 NSCLC ...</td>\n",
              "      <td>keytruda</td>\n",
              "      <td>0</td>\n",
              "      <td>347</td>\n",
              "      <td>74</td>\n",
              "    </tr>\n",
              "    <tr>\n",
              "      <th>5182</th>\n",
              "      <td>3715b0e5116d77d1f90e3c560aa65467ed55b952</td>\n",
              "      <td>I am almost 70 and have too many friends who'v...</td>\n",
              "      <td>ocrevus</td>\n",
              "      <td>0</td>\n",
              "      <td>592</td>\n",
              "      <td>129</td>\n",
              "    </tr>\n",
              "    <tr>\n",
              "      <th>5191</th>\n",
              "      <td>abff738bdffb66880933595e0d586b41f4ac7b5d</td>\n",
              "      <td>I refused treatments for 9 years Few months ag...</td>\n",
              "      <td>gilenya</td>\n",
              "      <td>0</td>\n",
              "      <td>455</td>\n",
              "      <td>88</td>\n",
              "    </tr>\n",
              "    <tr>\n",
              "      <th>5193</th>\n",
              "      <td>dbf155a0a8d2c5408aac206160d60824bbdba240</td>\n",
              "      <td>I was diagnosed with stage 4 NSLC in February ...</td>\n",
              "      <td>tarceva</td>\n",
              "      <td>0</td>\n",
              "      <td>8571</td>\n",
              "      <td>1771</td>\n",
              "    </tr>\n",
              "    <tr>\n",
              "      <th>5209</th>\n",
              "      <td>e2cfa0f97a31a8ee11d5e38c1d4b5e424cd839b2</td>\n",
              "      <td>Regarding Purinethol (6MP), I did take it for ...</td>\n",
              "      <td>humira</td>\n",
              "      <td>0</td>\n",
              "      <td>570</td>\n",
              "      <td>126</td>\n",
              "    </tr>\n",
              "    <tr>\n",
              "      <th>5230</th>\n",
              "      <td>25c3e2e69e9c3fdb6d86d6f123ce111e695ccf3e</td>\n",
              "      <td>I'm like Carole in that the only options when ...</td>\n",
              "      <td>gilenya</td>\n",
              "      <td>0</td>\n",
              "      <td>602</td>\n",
              "      <td>123</td>\n",
              "    </tr>\n",
              "    <tr>\n",
              "      <th>5235</th>\n",
              "      <td>9d057f85de7ef8326d05ad8b8365b7dd637c7ad5</td>\n",
              "      <td>Stelara Given the Go-Ahead for Crohn's (MedPag...</td>\n",
              "      <td>stelara</td>\n",
              "      <td>0</td>\n",
              "      <td>157</td>\n",
              "      <td>32</td>\n",
              "    </tr>\n",
              "    <tr>\n",
              "      <th>5238</th>\n",
              "      <td>7ce040c3290d16a930b7ca827ff9e1c2ddf9a43a</td>\n",
              "      <td>I was away on a wonderful trip with my husband...</td>\n",
              "      <td>humira</td>\n",
              "      <td>0</td>\n",
              "      <td>212</td>\n",
              "      <td>44</td>\n",
              "    </tr>\n",
              "    <tr>\n",
              "      <th>5245</th>\n",
              "      <td>4f3b311885f059ef90e062ae92d596d01e404edd</td>\n",
              "      <td>Hi beege, all going great and wife remains in ...</td>\n",
              "      <td>alectinib</td>\n",
              "      <td>0</td>\n",
              "      <td>524</td>\n",
              "      <td>109</td>\n",
              "    </tr>\n",
              "    <tr>\n",
              "      <th>5251</th>\n",
              "      <td>248661e9563e2ce910a0d9b71eccbf2a38feb9d4</td>\n",
              "      <td>Dar, how nice to have news of you--and such go...</td>\n",
              "      <td>ocrevus</td>\n",
              "      <td>0</td>\n",
              "      <td>406</td>\n",
              "      <td>98</td>\n",
              "    </tr>\n",
              "    <tr>\n",
              "      <th>5272</th>\n",
              "      <td>bf98773ed3a8cd9b2e27450f1d929cbef509b782</td>\n",
              "      <td>On Jan 11, 2018 4:12 PM Jim-P wrote: I think i...</td>\n",
              "      <td>opdivo</td>\n",
              "      <td>0</td>\n",
              "      <td>619</td>\n",
              "      <td>148</td>\n",
              "    </tr>\n",
              "    <tr>\n",
              "      <th>5274</th>\n",
              "      <td>5b5d129f3bab30fbb4740540a16856907657f005</td>\n",
              "      <td>Hi Bee, Thanks for the update and the good new...</td>\n",
              "      <td>alimta</td>\n",
              "      <td>0</td>\n",
              "      <td>1129</td>\n",
              "      <td>226</td>\n",
              "    </tr>\n",
              "    <tr>\n",
              "      <th>5278</th>\n",
              "      <td>c29143e9c1c299847e437412649b5738d861b9d0</td>\n",
              "      <td>Well, my MS appeared to be very mild for a num...</td>\n",
              "      <td>ocrevus</td>\n",
              "      <td>0</td>\n",
              "      <td>527</td>\n",
              "      <td>113</td>\n",
              "    </tr>\n",
              "  </tbody>\n",
              "</table>\n",
              "<p>617 rows × 6 columns</p>\n",
              "</div>"
            ],
            "text/plain": [
              "                                   unique_hash  ...  Punc\n",
              "6     be5a13376933a7f9bbf8e801c31691092f63260a  ...   145\n",
              "28    e8f39b50683bb1b94689e8e462bdcd1aff331ee1  ...  3650\n",
              "29    c2df2a0e70805bb1a17305e2ac137aeae26d424a  ...    58\n",
              "34    603c2f1612eeabcaac016b6da0df4117b6a8ccd8  ...   278\n",
              "42    918b3d83f17c334962f30974f2ff1f16630eebf0  ...    26\n",
              "60    92b34902563dbaa5352fad47791aa23daafde08b  ...    12\n",
              "63    5464b1ed8ae3bb6cf2a50ce92b997af10ff374a5  ...   205\n",
              "75    358e2b9747c7ddc7e14f181bdafffd984a07f92f  ...    49\n",
              "77    fd07fdfd6463392475fa70912d0aeaee743c80b9  ...   107\n",
              "87    7cafe0a71be5ce964c4f1326068be7092b876cef  ...    60\n",
              "88    af3146ca66f2af1ead3dc87099524f5d0c149fcb  ...   498\n",
              "95    696d5a518430ba77695c4c2f699d6a809ca8e341  ...    43\n",
              "107   6416b65b155fba1b4088c0a43925a24b84f90a0e  ...   534\n",
              "110   3e2d36128d917c533d7b01a220c02ac20e71d3f2  ...  1025\n",
              "127   53c2e76ef5ee7e54fa83a6252391dd048012b77d  ...   124\n",
              "128   ee27034124aceadc9dd16577c8fae5da68b48013  ...   114\n",
              "131   4e96c3ca5f909a61b1c319568ff004dfa6cd06f0  ...   173\n",
              "134   13019bbb1ff7d4e43093b678e5772d39173a0f04  ...    35\n",
              "141   972ef6b1f9e091fa3fcdc1406f8b1c4b94074a18  ...   353\n",
              "155   eacc702d90b62d7d17a3c8b67f513957929b59c7  ...    28\n",
              "161   e8ee3fa0068fccecb7f1b933c58052c364752edb  ...    58\n",
              "163   1fa5f8871de5e590106253778ba83d38a2ce8ecb  ...   111\n",
              "199   d3d0ce417ba4d6b618d79f85289e1a814a61e1f7  ...  1371\n",
              "213   e077873dc95f309b8765c3d1a303be50012c1eee  ...    55\n",
              "219   d05658f2d94fd0c9c2d435d810480ba514b43567  ...   204\n",
              "220   410a94077ea4738d132cb88730bb321599404bc0  ...    51\n",
              "226   8cebc867de55073e2e00da908665ba7b19d777af  ...   337\n",
              "252   a9c015430158360a0c7d3975f9947b40ace4c545  ...   443\n",
              "257   8976f6887cb091d57273594ef7b73b7655264ccd  ...   190\n",
              "280   b437836d3dd17e0e8c0c35ce2b482cef8bd7776e  ...   144\n",
              "...                                        ...  ...   ...\n",
              "4985  fec94560b864811488ff7d32b5529ed77fa97b9f  ...    60\n",
              "4993  92b194161caaf76e0eaf130a5f8907dc71afbd29  ...    81\n",
              "4997  0437d794556e353e1e05a14422ed6b39c9441d2f  ...   326\n",
              "5005  62c4c3e51b884d3dea50c971cd74bdea2b5f7d74  ...   287\n",
              "5009  53fcd44f1fc1f5bcce739874490c47158b24af5a  ...    64\n",
              "5032  8339d49ef3d40ed605938a4044955b8d4af89591  ...   198\n",
              "5045  76e8b122a154e5c5d1786c94d29d1cca55b49ddb  ...  6660\n",
              "5050  2e8be9ee593e2df443629118cddacfb48345124b  ...   364\n",
              "5056  5220f441b933a39eab9b33d50dcb0b0114fb8099  ...   195\n",
              "5065  97fa9ce7fc99013395d1822f7896fc6b0b52054a  ...   133\n",
              "5089  aa0dd238554ad86921ad43f67014928300b73755  ...  1653\n",
              "5090  e4e710c55213dc786797a889901b97e3a756b078  ...   236\n",
              "5118  2e0b9e15f5ae2fb7e6b5c7eecdff6a967b566a16  ...     9\n",
              "5150  4b53a7c8114d7bd3adabe6f7a66ec1b75a11c71e  ...    62\n",
              "5162  3500f26649531bc23340a0063b48440b73335320  ...   234\n",
              "5169  698dda78f95bf061939a4eb3756a8705d73a9a96  ...   187\n",
              "5170  88d92f24cf3edda1246700c0c4ef1b02bdf0cf90  ...    78\n",
              "5180  3e7ea74cd1b4091f85637b4b0a93bf570afd3f8f  ...    74\n",
              "5182  3715b0e5116d77d1f90e3c560aa65467ed55b952  ...   129\n",
              "5191  abff738bdffb66880933595e0d586b41f4ac7b5d  ...    88\n",
              "5193  dbf155a0a8d2c5408aac206160d60824bbdba240  ...  1771\n",
              "5209  e2cfa0f97a31a8ee11d5e38c1d4b5e424cd839b2  ...   126\n",
              "5230  25c3e2e69e9c3fdb6d86d6f123ce111e695ccf3e  ...   123\n",
              "5235  9d057f85de7ef8326d05ad8b8365b7dd637c7ad5  ...    32\n",
              "5238  7ce040c3290d16a930b7ca827ff9e1c2ddf9a43a  ...    44\n",
              "5245  4f3b311885f059ef90e062ae92d596d01e404edd  ...   109\n",
              "5251  248661e9563e2ce910a0d9b71eccbf2a38feb9d4  ...    98\n",
              "5272  bf98773ed3a8cd9b2e27450f1d929cbef509b782  ...   148\n",
              "5274  5b5d129f3bab30fbb4740540a16856907657f005  ...   226\n",
              "5278  c29143e9c1c299847e437412649b5738d861b9d0  ...   113\n",
              "\n",
              "[617 rows x 6 columns]"
            ]
          },
          "metadata": {
            "tags": []
          },
          "execution_count": 31
        }
      ]
    },
    {
      "cell_type": "code",
      "metadata": {
        "id": "nfHBsi-LXjDp",
        "colab": {
          "base_uri": "https://localhost:8080/",
          "height": 54
        },
        "outputId": "f46dabeb-f0c5-487d-ed6e-7263955c6c96"
      },
      "source": [
        "train_data.text.loc[29].lower()"
      ],
      "execution_count": null,
      "outputs": [
        {
          "output_type": "execute_result",
          "data": {
            "text/plain": [
              "'hi i was on rebif for about a year – rotate your injection sites and remember to take pain relief afterwards as you will et flu symptoms. i used aloe vera gel on the injection sites. i had a relapse on rebif so will now go on to fingolimod. good luck with it all.'"
            ]
          },
          "metadata": {
            "tags": []
          },
          "execution_count": 33
        }
      ]
    },
    {
      "cell_type": "code",
      "metadata": {
        "id": "k_jQc3Ng7cIG",
        "colab": {
          "base_uri": "https://localhost:8080/",
          "height": 1000
        },
        "outputId": "b1734d11-e396-42e9-b44b-13fd22d1fd57"
      },
      "source": [
        "train_data.text.str.lower().str.extract(\"(gilenya)\")"
      ],
      "execution_count": null,
      "outputs": [
        {
          "output_type": "execute_result",
          "data": {
            "text/html": [
              "<div>\n",
              "<style scoped>\n",
              "    .dataframe tbody tr th:only-of-type {\n",
              "        vertical-align: middle;\n",
              "    }\n",
              "\n",
              "    .dataframe tbody tr th {\n",
              "        vertical-align: top;\n",
              "    }\n",
              "\n",
              "    .dataframe thead th {\n",
              "        text-align: right;\n",
              "    }\n",
              "</style>\n",
              "<table border=\"1\" class=\"dataframe\">\n",
              "  <thead>\n",
              "    <tr style=\"text-align: right;\">\n",
              "      <th></th>\n",
              "      <th>0</th>\n",
              "    </tr>\n",
              "  </thead>\n",
              "  <tbody>\n",
              "    <tr>\n",
              "      <th>0</th>\n",
              "      <td>gilenya</td>\n",
              "    </tr>\n",
              "    <tr>\n",
              "      <th>1</th>\n",
              "      <td>gilenya</td>\n",
              "    </tr>\n",
              "    <tr>\n",
              "      <th>2</th>\n",
              "      <td>NaN</td>\n",
              "    </tr>\n",
              "    <tr>\n",
              "      <th>3</th>\n",
              "      <td>NaN</td>\n",
              "    </tr>\n",
              "    <tr>\n",
              "      <th>4</th>\n",
              "      <td>gilenya</td>\n",
              "    </tr>\n",
              "    <tr>\n",
              "      <th>5</th>\n",
              "      <td>NaN</td>\n",
              "    </tr>\n",
              "    <tr>\n",
              "      <th>6</th>\n",
              "      <td>NaN</td>\n",
              "    </tr>\n",
              "    <tr>\n",
              "      <th>7</th>\n",
              "      <td>gilenya</td>\n",
              "    </tr>\n",
              "    <tr>\n",
              "      <th>8</th>\n",
              "      <td>NaN</td>\n",
              "    </tr>\n",
              "    <tr>\n",
              "      <th>9</th>\n",
              "      <td>NaN</td>\n",
              "    </tr>\n",
              "    <tr>\n",
              "      <th>10</th>\n",
              "      <td>NaN</td>\n",
              "    </tr>\n",
              "    <tr>\n",
              "      <th>11</th>\n",
              "      <td>NaN</td>\n",
              "    </tr>\n",
              "    <tr>\n",
              "      <th>12</th>\n",
              "      <td>NaN</td>\n",
              "    </tr>\n",
              "    <tr>\n",
              "      <th>13</th>\n",
              "      <td>gilenya</td>\n",
              "    </tr>\n",
              "    <tr>\n",
              "      <th>14</th>\n",
              "      <td>NaN</td>\n",
              "    </tr>\n",
              "    <tr>\n",
              "      <th>15</th>\n",
              "      <td>NaN</td>\n",
              "    </tr>\n",
              "    <tr>\n",
              "      <th>16</th>\n",
              "      <td>NaN</td>\n",
              "    </tr>\n",
              "    <tr>\n",
              "      <th>17</th>\n",
              "      <td>NaN</td>\n",
              "    </tr>\n",
              "    <tr>\n",
              "      <th>18</th>\n",
              "      <td>NaN</td>\n",
              "    </tr>\n",
              "    <tr>\n",
              "      <th>19</th>\n",
              "      <td>NaN</td>\n",
              "    </tr>\n",
              "    <tr>\n",
              "      <th>20</th>\n",
              "      <td>NaN</td>\n",
              "    </tr>\n",
              "    <tr>\n",
              "      <th>21</th>\n",
              "      <td>NaN</td>\n",
              "    </tr>\n",
              "    <tr>\n",
              "      <th>22</th>\n",
              "      <td>NaN</td>\n",
              "    </tr>\n",
              "    <tr>\n",
              "      <th>23</th>\n",
              "      <td>NaN</td>\n",
              "    </tr>\n",
              "    <tr>\n",
              "      <th>24</th>\n",
              "      <td>NaN</td>\n",
              "    </tr>\n",
              "    <tr>\n",
              "      <th>25</th>\n",
              "      <td>gilenya</td>\n",
              "    </tr>\n",
              "    <tr>\n",
              "      <th>26</th>\n",
              "      <td>gilenya</td>\n",
              "    </tr>\n",
              "    <tr>\n",
              "      <th>27</th>\n",
              "      <td>NaN</td>\n",
              "    </tr>\n",
              "    <tr>\n",
              "      <th>28</th>\n",
              "      <td>NaN</td>\n",
              "    </tr>\n",
              "    <tr>\n",
              "      <th>29</th>\n",
              "      <td>NaN</td>\n",
              "    </tr>\n",
              "    <tr>\n",
              "      <th>...</th>\n",
              "      <td>...</td>\n",
              "    </tr>\n",
              "    <tr>\n",
              "      <th>5249</th>\n",
              "      <td>gilenya</td>\n",
              "    </tr>\n",
              "    <tr>\n",
              "      <th>5250</th>\n",
              "      <td>gilenya</td>\n",
              "    </tr>\n",
              "    <tr>\n",
              "      <th>5251</th>\n",
              "      <td>NaN</td>\n",
              "    </tr>\n",
              "    <tr>\n",
              "      <th>5252</th>\n",
              "      <td>NaN</td>\n",
              "    </tr>\n",
              "    <tr>\n",
              "      <th>5253</th>\n",
              "      <td>NaN</td>\n",
              "    </tr>\n",
              "    <tr>\n",
              "      <th>5254</th>\n",
              "      <td>gilenya</td>\n",
              "    </tr>\n",
              "    <tr>\n",
              "      <th>5255</th>\n",
              "      <td>NaN</td>\n",
              "    </tr>\n",
              "    <tr>\n",
              "      <th>5256</th>\n",
              "      <td>NaN</td>\n",
              "    </tr>\n",
              "    <tr>\n",
              "      <th>5257</th>\n",
              "      <td>gilenya</td>\n",
              "    </tr>\n",
              "    <tr>\n",
              "      <th>5258</th>\n",
              "      <td>NaN</td>\n",
              "    </tr>\n",
              "    <tr>\n",
              "      <th>5259</th>\n",
              "      <td>NaN</td>\n",
              "    </tr>\n",
              "    <tr>\n",
              "      <th>5260</th>\n",
              "      <td>NaN</td>\n",
              "    </tr>\n",
              "    <tr>\n",
              "      <th>5261</th>\n",
              "      <td>NaN</td>\n",
              "    </tr>\n",
              "    <tr>\n",
              "      <th>5262</th>\n",
              "      <td>NaN</td>\n",
              "    </tr>\n",
              "    <tr>\n",
              "      <th>5263</th>\n",
              "      <td>NaN</td>\n",
              "    </tr>\n",
              "    <tr>\n",
              "      <th>5264</th>\n",
              "      <td>NaN</td>\n",
              "    </tr>\n",
              "    <tr>\n",
              "      <th>5265</th>\n",
              "      <td>NaN</td>\n",
              "    </tr>\n",
              "    <tr>\n",
              "      <th>5266</th>\n",
              "      <td>NaN</td>\n",
              "    </tr>\n",
              "    <tr>\n",
              "      <th>5267</th>\n",
              "      <td>NaN</td>\n",
              "    </tr>\n",
              "    <tr>\n",
              "      <th>5268</th>\n",
              "      <td>NaN</td>\n",
              "    </tr>\n",
              "    <tr>\n",
              "      <th>5269</th>\n",
              "      <td>gilenya</td>\n",
              "    </tr>\n",
              "    <tr>\n",
              "      <th>5270</th>\n",
              "      <td>NaN</td>\n",
              "    </tr>\n",
              "    <tr>\n",
              "      <th>5271</th>\n",
              "      <td>NaN</td>\n",
              "    </tr>\n",
              "    <tr>\n",
              "      <th>5272</th>\n",
              "      <td>NaN</td>\n",
              "    </tr>\n",
              "    <tr>\n",
              "      <th>5273</th>\n",
              "      <td>NaN</td>\n",
              "    </tr>\n",
              "    <tr>\n",
              "      <th>5274</th>\n",
              "      <td>NaN</td>\n",
              "    </tr>\n",
              "    <tr>\n",
              "      <th>5275</th>\n",
              "      <td>NaN</td>\n",
              "    </tr>\n",
              "    <tr>\n",
              "      <th>5276</th>\n",
              "      <td>NaN</td>\n",
              "    </tr>\n",
              "    <tr>\n",
              "      <th>5277</th>\n",
              "      <td>NaN</td>\n",
              "    </tr>\n",
              "    <tr>\n",
              "      <th>5278</th>\n",
              "      <td>NaN</td>\n",
              "    </tr>\n",
              "  </tbody>\n",
              "</table>\n",
              "<p>5279 rows × 1 columns</p>\n",
              "</div>"
            ],
            "text/plain": [
              "            0\n",
              "0     gilenya\n",
              "1     gilenya\n",
              "2         NaN\n",
              "3         NaN\n",
              "4     gilenya\n",
              "5         NaN\n",
              "6         NaN\n",
              "7     gilenya\n",
              "8         NaN\n",
              "9         NaN\n",
              "10        NaN\n",
              "11        NaN\n",
              "12        NaN\n",
              "13    gilenya\n",
              "14        NaN\n",
              "15        NaN\n",
              "16        NaN\n",
              "17        NaN\n",
              "18        NaN\n",
              "19        NaN\n",
              "20        NaN\n",
              "21        NaN\n",
              "22        NaN\n",
              "23        NaN\n",
              "24        NaN\n",
              "25    gilenya\n",
              "26    gilenya\n",
              "27        NaN\n",
              "28        NaN\n",
              "29        NaN\n",
              "...       ...\n",
              "5249  gilenya\n",
              "5250  gilenya\n",
              "5251      NaN\n",
              "5252      NaN\n",
              "5253      NaN\n",
              "5254  gilenya\n",
              "5255      NaN\n",
              "5256      NaN\n",
              "5257  gilenya\n",
              "5258      NaN\n",
              "5259      NaN\n",
              "5260      NaN\n",
              "5261      NaN\n",
              "5262      NaN\n",
              "5263      NaN\n",
              "5264      NaN\n",
              "5265      NaN\n",
              "5266      NaN\n",
              "5267      NaN\n",
              "5268      NaN\n",
              "5269  gilenya\n",
              "5270      NaN\n",
              "5271      NaN\n",
              "5272      NaN\n",
              "5273      NaN\n",
              "5274      NaN\n",
              "5275      NaN\n",
              "5276      NaN\n",
              "5277      NaN\n",
              "5278      NaN\n",
              "\n",
              "[5279 rows x 1 columns]"
            ]
          },
          "metadata": {
            "tags": []
          },
          "execution_count": 25
        }
      ]
    },
    {
      "cell_type": "code",
      "metadata": {
        "id": "zFn1QrS67C5O",
        "colab": {
          "base_uri": "https://localhost:8080/",
          "height": 195
        },
        "outputId": "f950ad96-e172-4c8b-dd2b-91fd101ea435"
      },
      "source": [
        "sub_data = clean_data(sub_data_og)\n",
        "sub_data.head()"
      ],
      "execution_count": null,
      "outputs": [
        {
          "output_type": "execute_result",
          "data": {
            "text/html": [
              "<div>\n",
              "<style scoped>\n",
              "    .dataframe tbody tr th:only-of-type {\n",
              "        vertical-align: middle;\n",
              "    }\n",
              "\n",
              "    .dataframe tbody tr th {\n",
              "        vertical-align: top;\n",
              "    }\n",
              "\n",
              "    .dataframe thead th {\n",
              "        text-align: right;\n",
              "    }\n",
              "</style>\n",
              "<table border=\"1\" class=\"dataframe\">\n",
              "  <thead>\n",
              "    <tr style=\"text-align: right;\">\n",
              "      <th></th>\n",
              "      <th>unique_hash</th>\n",
              "      <th>text</th>\n",
              "      <th>drug</th>\n",
              "      <th>Length</th>\n",
              "      <th>Punc</th>\n",
              "    </tr>\n",
              "  </thead>\n",
              "  <tbody>\n",
              "    <tr>\n",
              "      <th>0</th>\n",
              "      <td>9e9a8166b84114aca147bf409f6f956635034c08</td>\n",
              "      <td>256 (previously stable on natalizumab), with 5...</td>\n",
              "      <td>fingolimod</td>\n",
              "      <td>72</td>\n",
              "      <td>13</td>\n",
              "    </tr>\n",
              "    <tr>\n",
              "      <th>1</th>\n",
              "      <td>e747e6822c867571afe7b907b51f0f2ca67b0e1a</td>\n",
              "      <td>On fingolimod and have been since December 201...</td>\n",
              "      <td>fingolimod</td>\n",
              "      <td>146</td>\n",
              "      <td>30</td>\n",
              "    </tr>\n",
              "    <tr>\n",
              "      <th>2</th>\n",
              "      <td>50b6d851bcff4f35afe354937949e9948975adf7</td>\n",
              "      <td>Apparently it's shingles! :-/ I do have a few ...</td>\n",
              "      <td>humira</td>\n",
              "      <td>1035</td>\n",
              "      <td>236</td>\n",
              "    </tr>\n",
              "    <tr>\n",
              "      <th>3</th>\n",
              "      <td>7f82ec2176ae6ab0b5d20b5ffc767ac829f384ae</td>\n",
              "      <td>If the Docetaxel doing once a week x3 weeks th...</td>\n",
              "      <td>tagrisso</td>\n",
              "      <td>918</td>\n",
              "      <td>235</td>\n",
              "    </tr>\n",
              "    <tr>\n",
              "      <th>4</th>\n",
              "      <td>8b37d169dee5bdae27060949242fb54feb6a7f7f</td>\n",
              "      <td>CC, Stelara worked in a matter of days for me....</td>\n",
              "      <td>stelara</td>\n",
              "      <td>3168</td>\n",
              "      <td>712</td>\n",
              "    </tr>\n",
              "  </tbody>\n",
              "</table>\n",
              "</div>"
            ],
            "text/plain": [
              "                                unique_hash  ... Punc\n",
              "0  9e9a8166b84114aca147bf409f6f956635034c08  ...   13\n",
              "1  e747e6822c867571afe7b907b51f0f2ca67b0e1a  ...   30\n",
              "2  50b6d851bcff4f35afe354937949e9948975adf7  ...  236\n",
              "3  7f82ec2176ae6ab0b5d20b5ffc767ac829f384ae  ...  235\n",
              "4  8b37d169dee5bdae27060949242fb54feb6a7f7f  ...  712\n",
              "\n",
              "[5 rows x 5 columns]"
            ]
          },
          "metadata": {
            "tags": []
          },
          "execution_count": 6
        }
      ]
    },
    {
      "cell_type": "code",
      "metadata": {
        "id": "Zv1zNnA6WEym",
        "colab": {
          "base_uri": "https://localhost:8080/",
          "height": 1000
        },
        "outputId": "db6684a7-8a83-4cf0-90fc-e5adb5663f44"
      },
      "source": [
        "train_data[train_data.duplicated(\"text\")]"
      ],
      "execution_count": null,
      "outputs": [
        {
          "output_type": "execute_result",
          "data": {
            "text/html": [
              "<div>\n",
              "<style scoped>\n",
              "    .dataframe tbody tr th:only-of-type {\n",
              "        vertical-align: middle;\n",
              "    }\n",
              "\n",
              "    .dataframe tbody tr th {\n",
              "        vertical-align: top;\n",
              "    }\n",
              "\n",
              "    .dataframe thead th {\n",
              "        text-align: right;\n",
              "    }\n",
              "</style>\n",
              "<table border=\"1\" class=\"dataframe\">\n",
              "  <thead>\n",
              "    <tr style=\"text-align: right;\">\n",
              "      <th></th>\n",
              "      <th>unique_hash</th>\n",
              "      <th>text</th>\n",
              "      <th>drug</th>\n",
              "      <th>sentiment</th>\n",
              "      <th>Length</th>\n",
              "      <th>Punc</th>\n",
              "    </tr>\n",
              "  </thead>\n",
              "  <tbody>\n",
              "    <tr>\n",
              "      <th>633</th>\n",
              "      <td>026b8f717d0bf770bc27fefe3e7f0234428cfb79</td>\n",
              "      <td>Sorry about that, Lab. Being forced to doctor-...</td>\n",
              "      <td>humira</td>\n",
              "      <td>2</td>\n",
              "      <td>1022</td>\n",
              "      <td>241</td>\n",
              "    </tr>\n",
              "    <tr>\n",
              "      <th>637</th>\n",
              "      <td>9e94c38585be70d0ea2ed9d86d6fdff976edc4b6</td>\n",
              "      <td>I've got to agree with iPoop. Long-term pred s...</td>\n",
              "      <td>entyvio</td>\n",
              "      <td>2</td>\n",
              "      <td>905</td>\n",
              "      <td>203</td>\n",
              "    </tr>\n",
              "    <tr>\n",
              "      <th>891</th>\n",
              "      <td>f2799a8d9246c4f65abaf0dc83f19eab2e884852</td>\n",
              "      <td>Posted in the past following mixed response ab...</td>\n",
              "      <td>pemetrexed</td>\n",
              "      <td>2</td>\n",
              "      <td>1933</td>\n",
              "      <td>385</td>\n",
              "    </tr>\n",
              "    <tr>\n",
              "      <th>1196</th>\n",
              "      <td>3d0b6ce9c5e31e3ba656e526e8a7d6c6efd45125</td>\n",
              "      <td>In the U.S.  Inflectra Ixifi Remicade Renflexi...</td>\n",
              "      <td>inflectra</td>\n",
              "      <td>2</td>\n",
              "      <td>13359</td>\n",
              "      <td>2401</td>\n",
              "    </tr>\n",
              "    <tr>\n",
              "      <th>1291</th>\n",
              "      <td>73f40082d37e7fe64e9aa28d82506cd7c788cd7b</td>\n",
              "      <td>The Biologics Price Competition and Innovation...</td>\n",
              "      <td>cyltezo</td>\n",
              "      <td>2</td>\n",
              "      <td>3454</td>\n",
              "      <td>627</td>\n",
              "    </tr>\n",
              "    <tr>\n",
              "      <th>1365</th>\n",
              "      <td>22a389de9012a92d0e3395dfff4df8113c98f217</td>\n",
              "      <td>The Center for Biosimilars ® recaps the top ne...</td>\n",
              "      <td>remicade</td>\n",
              "      <td>2</td>\n",
              "      <td>3218</td>\n",
              "      <td>560</td>\n",
              "    </tr>\n",
              "    <tr>\n",
              "      <th>1429</th>\n",
              "      <td>0fc5ba9dd5ecd99449d5fa1f9d9185158f2ea3f9</td>\n",
              "      <td>We've arrived at the heavy hitters! Going back...</td>\n",
              "      <td>renflexis</td>\n",
              "      <td>2</td>\n",
              "      <td>13266</td>\n",
              "      <td>2419</td>\n",
              "    </tr>\n",
              "    <tr>\n",
              "      <th>1579</th>\n",
              "      <td>49da4b5085a72ec0ff219369ac8b7396b0d4c514</td>\n",
              "      <td>We've arrived at the heavy hitters! Going back...</td>\n",
              "      <td>remicade</td>\n",
              "      <td>2</td>\n",
              "      <td>13266</td>\n",
              "      <td>2419</td>\n",
              "    </tr>\n",
              "    <tr>\n",
              "      <th>1648</th>\n",
              "      <td>094cf99144a1d6ae95a8473bcf845f53d5d54545</td>\n",
              "      <td>Remission is the primary goal for people with ...</td>\n",
              "      <td>cimzia</td>\n",
              "      <td>2</td>\n",
              "      <td>6520</td>\n",
              "      <td>1202</td>\n",
              "    </tr>\n",
              "    <tr>\n",
              "      <th>1750</th>\n",
              "      <td>34f80996604786dd9326bcbf468230052dcbbf15</td>\n",
              "      <td>In many regulatory territories, patients with ...</td>\n",
              "      <td>remicade</td>\n",
              "      <td>2</td>\n",
              "      <td>3730</td>\n",
              "      <td>625</td>\n",
              "    </tr>\n",
              "    <tr>\n",
              "      <th>1753</th>\n",
              "      <td>7ea4d9a3a22992ecef2092c0e2bd290926b624d5</td>\n",
              "      <td>Hi Everyone, This is my first post. I've manag...</td>\n",
              "      <td>cimzia</td>\n",
              "      <td>2</td>\n",
              "      <td>609</td>\n",
              "      <td>128</td>\n",
              "    </tr>\n",
              "    <tr>\n",
              "      <th>1792</th>\n",
              "      <td>6081c22ae96d3e55c295a5e84c1d570616884e6b</td>\n",
              "      <td>There are currently no treatments for macular ...</td>\n",
              "      <td>eylea</td>\n",
              "      <td>2</td>\n",
              "      <td>3379</td>\n",
              "      <td>587</td>\n",
              "    </tr>\n",
              "    <tr>\n",
              "      <th>1822</th>\n",
              "      <td>a6fd92385c3cd63e1afb2f5b6feacb4c030a0f7e</td>\n",
              "      <td>Imuran metabolizes into 6mp within your body. ...</td>\n",
              "      <td>simponi</td>\n",
              "      <td>2</td>\n",
              "      <td>1103</td>\n",
              "      <td>228</td>\n",
              "    </tr>\n",
              "    <tr>\n",
              "      <th>1857</th>\n",
              "      <td>1626fb613b9bb757e1204868979766202cebb5cc</td>\n",
              "      <td>Even if you stick with an ostomy with crohns t...</td>\n",
              "      <td>cimzia</td>\n",
              "      <td>2</td>\n",
              "      <td>689</td>\n",
              "      <td>144</td>\n",
              "    </tr>\n",
              "    <tr>\n",
              "      <th>1912</th>\n",
              "      <td>b7d360a4513d305f0429803451361334bb4a88cc</td>\n",
              "      <td>Never been tested to the best of my knowledge....</td>\n",
              "      <td>remicade</td>\n",
              "      <td>2</td>\n",
              "      <td>1472</td>\n",
              "      <td>313</td>\n",
              "    </tr>\n",
              "    <tr>\n",
              "      <th>2210</th>\n",
              "      <td>86c4b58c504b4e4e04916bc2c735f2c0738b7441</td>\n",
              "      <td>I would make an appointment with your GI ASAP....</td>\n",
              "      <td>entyvio</td>\n",
              "      <td>2</td>\n",
              "      <td>771</td>\n",
              "      <td>167</td>\n",
              "    </tr>\n",
              "    <tr>\n",
              "      <th>2215</th>\n",
              "      <td>6aa3d3bbdce2177c6bac545065e67cf6ecb3c4eb</td>\n",
              "      <td>If you've failed remicade/infliximab and humir...</td>\n",
              "      <td>entyvio</td>\n",
              "      <td>2</td>\n",
              "      <td>401</td>\n",
              "      <td>73</td>\n",
              "    </tr>\n",
              "    <tr>\n",
              "      <th>2269</th>\n",
              "      <td>3a359a0d6f4237924545d69d8bdc8bb9f389045e</td>\n",
              "      <td>Electrolytes are certain nutrients (or chemica...</td>\n",
              "      <td>stelara</td>\n",
              "      <td>2</td>\n",
              "      <td>4342</td>\n",
              "      <td>853</td>\n",
              "    </tr>\n",
              "    <tr>\n",
              "      <th>2293</th>\n",
              "      <td>dd5f7e3e264dd2740bf5a3b28973bd505fbc281c</td>\n",
              "      <td>In the U.S.  Inflectra Ixifi Remicade Renflexi...</td>\n",
              "      <td>golimumab</td>\n",
              "      <td>2</td>\n",
              "      <td>13359</td>\n",
              "      <td>2401</td>\n",
              "    </tr>\n",
              "    <tr>\n",
              "      <th>2295</th>\n",
              "      <td>bef2594e17907587bc06d443907335952eb20f2e</td>\n",
              "      <td>“In a review of the literature, we found that,...</td>\n",
              "      <td>durvalumab</td>\n",
              "      <td>2</td>\n",
              "      <td>4826</td>\n",
              "      <td>910</td>\n",
              "    </tr>\n",
              "    <tr>\n",
              "      <th>2370</th>\n",
              "      <td>20ef8038d8f910b979c85315011089788502ef71</td>\n",
              "      <td>The math is simple, but managing a company isn...</td>\n",
              "      <td>inflectra</td>\n",
              "      <td>2</td>\n",
              "      <td>32585</td>\n",
              "      <td>6415</td>\n",
              "    </tr>\n",
              "    <tr>\n",
              "      <th>2483</th>\n",
              "      <td>ccf69b6bb12da58573d175a24245bce17152d915</td>\n",
              "      <td>The roll-out of biosimilars of AbbVie’s Humira...</td>\n",
              "      <td>humira</td>\n",
              "      <td>2</td>\n",
              "      <td>2971</td>\n",
              "      <td>573</td>\n",
              "    </tr>\n",
              "    <tr>\n",
              "      <th>2551</th>\n",
              "      <td>4e046da240c9c55fd6060e9ae42f752cdc46c2d3</td>\n",
              "      <td>I agree wwith iPoop about checking levels. In ...</td>\n",
              "      <td>humira</td>\n",
              "      <td>2</td>\n",
              "      <td>1438</td>\n",
              "      <td>326</td>\n",
              "    </tr>\n",
              "    <tr>\n",
              "      <th>2559</th>\n",
              "      <td>37a9723c0a0e04f6b4ac814fcc9cd28b80468019</td>\n",
              "      <td>I am curious about LDN and really want to give...</td>\n",
              "      <td>entyvio</td>\n",
              "      <td>2</td>\n",
              "      <td>781</td>\n",
              "      <td>158</td>\n",
              "    </tr>\n",
              "    <tr>\n",
              "      <th>2560</th>\n",
              "      <td>df9ced46f17e66bb8ff44e6077831ca56972b6c6</td>\n",
              "      <td>(in FLIKS e mab)  Index Terms Avakine Inflixim...</td>\n",
              "      <td>tofacitinib</td>\n",
              "      <td>2</td>\n",
              "      <td>41524</td>\n",
              "      <td>7386</td>\n",
              "    </tr>\n",
              "    <tr>\n",
              "      <th>2662</th>\n",
              "      <td>8eb6a82aba7915ecb39d4d0e058bf8b0db674ae7</td>\n",
              "      <td>You are overthinking this. Just ask her out an...</td>\n",
              "      <td>entyvio</td>\n",
              "      <td>2</td>\n",
              "      <td>676</td>\n",
              "      <td>157</td>\n",
              "    </tr>\n",
              "    <tr>\n",
              "      <th>2663</th>\n",
              "      <td>b052f786b656336e68bbb958c8b79aaef4076c8a</td>\n",
              "      <td>The  lungs are a pair of cone-shaped breathing...</td>\n",
              "      <td>erlotinib</td>\n",
              "      <td>2</td>\n",
              "      <td>55006</td>\n",
              "      <td>11183</td>\n",
              "    </tr>\n",
              "    <tr>\n",
              "      <th>2691</th>\n",
              "      <td>bc0a3c97a3442f609168ae2123135b74f0dc7eaf</td>\n",
              "      <td>@tibs74 thanks for that info. when I was on Ty...</td>\n",
              "      <td>lemtrada</td>\n",
              "      <td>2</td>\n",
              "      <td>538</td>\n",
              "      <td>120</td>\n",
              "    </tr>\n",
              "    <tr>\n",
              "      <th>2797</th>\n",
              "      <td>0ec5e13d2aa2b4c10b973cec960fccfd5d4a5620</td>\n",
              "      <td>As someone living with Crohn’s disease, you’ve...</td>\n",
              "      <td>humira</td>\n",
              "      <td>2</td>\n",
              "      <td>5439</td>\n",
              "      <td>1007</td>\n",
              "    </tr>\n",
              "    <tr>\n",
              "      <th>2816</th>\n",
              "      <td>cf67b09ce7da03a28cfcd5720848a9c37e95fcff</td>\n",
              "      <td>By Christina Bennett, MS In addition to today’...</td>\n",
              "      <td>pembrolizumab</td>\n",
              "      <td>2</td>\n",
              "      <td>8459</td>\n",
              "      <td>1538</td>\n",
              "    </tr>\n",
              "    <tr>\n",
              "      <th>...</th>\n",
              "      <td>...</td>\n",
              "      <td>...</td>\n",
              "      <td>...</td>\n",
              "      <td>...</td>\n",
              "      <td>...</td>\n",
              "      <td>...</td>\n",
              "    </tr>\n",
              "    <tr>\n",
              "      <th>4622</th>\n",
              "      <td>a0fcf0cb51116b625590008c3081a7e14bb5e68d</td>\n",
              "      <td>Hey there. This is my first post on any forum....</td>\n",
              "      <td>remicade</td>\n",
              "      <td>2</td>\n",
              "      <td>528</td>\n",
              "      <td>107</td>\n",
              "    </tr>\n",
              "    <tr>\n",
              "      <th>4630</th>\n",
              "      <td>f44b3790cd81815cc80bd079fbd69b7d7fe58951</td>\n",
              "      <td>I was diagnosed with UC 16 years ago, had a to...</td>\n",
              "      <td>stelara</td>\n",
              "      <td>2</td>\n",
              "      <td>932</td>\n",
              "      <td>195</td>\n",
              "    </tr>\n",
              "    <tr>\n",
              "      <th>4659</th>\n",
              "      <td>b45a180ea8a067a52c41116c9dd4fddf72877f79</td>\n",
              "      <td>Thank you Janine. Once diagnosed back in Jan/1...</td>\n",
              "      <td>opdivo</td>\n",
              "      <td>2</td>\n",
              "      <td>925</td>\n",
              "      <td>186</td>\n",
              "    </tr>\n",
              "    <tr>\n",
              "      <th>4709</th>\n",
              "      <td>7979fada98cd9ccf54393e6a436cc94056d3b16a</td>\n",
              "      <td>Electrolytes are certain nutrients (or chemica...</td>\n",
              "      <td>cimzia</td>\n",
              "      <td>2</td>\n",
              "      <td>10222</td>\n",
              "      <td>2085</td>\n",
              "    </tr>\n",
              "    <tr>\n",
              "      <th>4710</th>\n",
              "      <td>1cb0c62a33923b6cd52808d7515ea60015f90ab0</td>\n",
              "      <td>Hi guys... Quick backstory. I was diagnosed at...</td>\n",
              "      <td>remicade</td>\n",
              "      <td>2</td>\n",
              "      <td>1433</td>\n",
              "      <td>320</td>\n",
              "    </tr>\n",
              "    <tr>\n",
              "      <th>4738</th>\n",
              "      <td>5bde8b450ec6e9e545b7b3e066f1a4c15316be49</td>\n",
              "      <td>CC, Stelara worked in a matter of days for me....</td>\n",
              "      <td>entyvio</td>\n",
              "      <td>2</td>\n",
              "      <td>2888</td>\n",
              "      <td>649</td>\n",
              "    </tr>\n",
              "    <tr>\n",
              "      <th>4789</th>\n",
              "      <td>40da6a9c154f604a44563c3f1fe7ee9f27e107d2</td>\n",
              "      <td>I did that once with 6-mp and felt great, 4 mo...</td>\n",
              "      <td>humira</td>\n",
              "      <td>2</td>\n",
              "      <td>717</td>\n",
              "      <td>163</td>\n",
              "    </tr>\n",
              "    <tr>\n",
              "      <th>4802</th>\n",
              "      <td>d5e0a58816ecdf28f2efb6bc50f7f67d2d91ec8f</td>\n",
              "      <td>It's out of your control tbh. Most people can ...</td>\n",
              "      <td>entyvio</td>\n",
              "      <td>2</td>\n",
              "      <td>771</td>\n",
              "      <td>174</td>\n",
              "    </tr>\n",
              "    <tr>\n",
              "      <th>4825</th>\n",
              "      <td>c4bec66878cf7dd5112d81753b2ecc915ea99d1e</td>\n",
              "      <td>Anlotinib, an angiogenesis and proliferative s...</td>\n",
              "      <td>erlotinib</td>\n",
              "      <td>2</td>\n",
              "      <td>4423</td>\n",
              "      <td>883</td>\n",
              "    </tr>\n",
              "    <tr>\n",
              "      <th>4873</th>\n",
              "      <td>8c4538c95f02444e9a281058979c5073a3e0c45f</td>\n",
              "      <td>Hi UB. How tall are you, because 145lb doesn't...</td>\n",
              "      <td>stelara</td>\n",
              "      <td>2</td>\n",
              "      <td>2518</td>\n",
              "      <td>569</td>\n",
              "    </tr>\n",
              "    <tr>\n",
              "      <th>4899</th>\n",
              "      <td>15b1e94a40ca75e9f0a40f9e3c28b843dfe5dedf</td>\n",
              "      <td>Prayers coming your way. I'm surprised that he...</td>\n",
              "      <td>stelara</td>\n",
              "      <td>2</td>\n",
              "      <td>195</td>\n",
              "      <td>40</td>\n",
              "    </tr>\n",
              "    <tr>\n",
              "      <th>4930</th>\n",
              "      <td>faa896f06e0e3f5d7de99c829501b15addae0d26</td>\n",
              "      <td>No one can say how the Humira will affect you....</td>\n",
              "      <td>remicade</td>\n",
              "      <td>2</td>\n",
              "      <td>884</td>\n",
              "      <td>202</td>\n",
              "    </tr>\n",
              "    <tr>\n",
              "      <th>4974</th>\n",
              "      <td>190f4ed161db82ac711e3b32a04d8a508c75c751</td>\n",
              "      <td>Hi Everyone, Sorry for the delay. Little wi fi...</td>\n",
              "      <td>entyvio</td>\n",
              "      <td>2</td>\n",
              "      <td>1784</td>\n",
              "      <td>396</td>\n",
              "    </tr>\n",
              "    <tr>\n",
              "      <th>4977</th>\n",
              "      <td>dd1ee5a2475b69a7f75925eda7464f8ab86f76dd</td>\n",
              "      <td>The was a lot of money to be made curing Hep-C...</td>\n",
              "      <td>stelara</td>\n",
              "      <td>2</td>\n",
              "      <td>518</td>\n",
              "      <td>112</td>\n",
              "    </tr>\n",
              "    <tr>\n",
              "      <th>4983</th>\n",
              "      <td>a6565e666968a29c2f8c084fd87552e8fcd9ca71</td>\n",
              "      <td>155. Deputy Billy Kelleher asked the Minister ...</td>\n",
              "      <td>nivolumab</td>\n",
              "      <td>2</td>\n",
              "      <td>34841</td>\n",
              "      <td>6380</td>\n",
              "    </tr>\n",
              "    <tr>\n",
              "      <th>5011</th>\n",
              "      <td>91470e80c97a17657d8bec5b57a87131f9f10cc5</td>\n",
              "      <td>Drs. H. Jack West, Medical Director - Thoracic...</td>\n",
              "      <td>nivolumab</td>\n",
              "      <td>2</td>\n",
              "      <td>3268</td>\n",
              "      <td>574</td>\n",
              "    </tr>\n",
              "    <tr>\n",
              "      <th>5027</th>\n",
              "      <td>c6bdf7322fdf492dac6589c3a284e1401d6c7493</td>\n",
              "      <td>Well, since the last post, it has been another...</td>\n",
              "      <td>humira</td>\n",
              "      <td>2</td>\n",
              "      <td>13390</td>\n",
              "      <td>3084</td>\n",
              "    </tr>\n",
              "    <tr>\n",
              "      <th>5070</th>\n",
              "      <td>f8daffae3e68be41b0a4b4593d50fee3ed1c03f3</td>\n",
              "      <td>“We are very pleased that our abstract has bee...</td>\n",
              "      <td>remicade</td>\n",
              "      <td>2</td>\n",
              "      <td>7561</td>\n",
              "      <td>1334</td>\n",
              "    </tr>\n",
              "    <tr>\n",
              "      <th>5092</th>\n",
              "      <td>006122e79e8c38b49a7c3371bcdf3d5b24cbebab</td>\n",
              "      <td>Written January 12, 2018  Next: Let Us Try Hom...</td>\n",
              "      <td>laser photocoagulation</td>\n",
              "      <td>2</td>\n",
              "      <td>70898</td>\n",
              "      <td>15432</td>\n",
              "    </tr>\n",
              "    <tr>\n",
              "      <th>5110</th>\n",
              "      <td>6f7e57f8efd65786adb269aff7852df9a9d7f03d</td>\n",
              "      <td>Hey iPoop. I tried clicking that link and it d...</td>\n",
              "      <td>entyvio</td>\n",
              "      <td>2</td>\n",
              "      <td>604</td>\n",
              "      <td>138</td>\n",
              "    </tr>\n",
              "    <tr>\n",
              "      <th>5141</th>\n",
              "      <td>0ec0b1dd73d1ebff351171511058f1b34d78052c</td>\n",
              "      <td>Drs. H. Jack West, Medical Director - Thoracic...</td>\n",
              "      <td>avastin</td>\n",
              "      <td>2</td>\n",
              "      <td>3597</td>\n",
              "      <td>639</td>\n",
              "    </tr>\n",
              "    <tr>\n",
              "      <th>5145</th>\n",
              "      <td>4dedf3d961096f5860fc7012150f45e89a28e358</td>\n",
              "      <td>First, thanks so much for being here to help. ...</td>\n",
              "      <td>tecentriq</td>\n",
              "      <td>2</td>\n",
              "      <td>1133</td>\n",
              "      <td>219</td>\n",
              "    </tr>\n",
              "    <tr>\n",
              "      <th>5156</th>\n",
              "      <td>398a483bf015af48255c2ace624d9769f4fba5d3</td>\n",
              "      <td>epiCaPture: A Urine DNA Methylation Test for E...</td>\n",
              "      <td>necitumumab</td>\n",
              "      <td>2</td>\n",
              "      <td>42377</td>\n",
              "      <td>7550</td>\n",
              "    </tr>\n",
              "    <tr>\n",
              "      <th>5188</th>\n",
              "      <td>11d2b78f0d9803609e61d5f756cfdc4f8f353b36</td>\n",
              "      <td>Diagnosed in 2012 Stage IV NSCLC, malignant pl...</td>\n",
              "      <td>alimta</td>\n",
              "      <td>2</td>\n",
              "      <td>720</td>\n",
              "      <td>151</td>\n",
              "    </tr>\n",
              "    <tr>\n",
              "      <th>5197</th>\n",
              "      <td>b6a4d7da78f56ed54f28836d6e4caebd1a38235d</td>\n",
              "      <td>I'm assuming the 10mg/kg every 6 weeks is limi...</td>\n",
              "      <td>entyvio</td>\n",
              "      <td>2</td>\n",
              "      <td>842</td>\n",
              "      <td>175</td>\n",
              "    </tr>\n",
              "    <tr>\n",
              "      <th>5200</th>\n",
              "      <td>54d554c36d602ec72703b61032e456f960c63a0b</td>\n",
              "      <td>Well you know remicade works well for you, so ...</td>\n",
              "      <td>stelara</td>\n",
              "      <td>2</td>\n",
              "      <td>985</td>\n",
              "      <td>183</td>\n",
              "    </tr>\n",
              "    <tr>\n",
              "      <th>5202</th>\n",
              "      <td>3957eb35a40ca5d9e69b233600cb023188e00011</td>\n",
              "      <td>Reply posted for JRWILSON. Thanks, I finally m...</td>\n",
              "      <td>humira</td>\n",
              "      <td>2</td>\n",
              "      <td>473</td>\n",
              "      <td>100</td>\n",
              "    </tr>\n",
              "    <tr>\n",
              "      <th>5216</th>\n",
              "      <td>0a119851a2190388914ddece50c60ac256ede057</td>\n",
              "      <td>Written by Dr. Amy Moore, Director of Science ...</td>\n",
              "      <td>ceritinib</td>\n",
              "      <td>2</td>\n",
              "      <td>4194</td>\n",
              "      <td>741</td>\n",
              "    </tr>\n",
              "    <tr>\n",
              "      <th>5225</th>\n",
              "      <td>7ab83680bf0913bc30206053df560e5815d4c2f0</td>\n",
              "      <td>Drs. H. Jack West, Medical Director - Thoracic...</td>\n",
              "      <td>avastin</td>\n",
              "      <td>2</td>\n",
              "      <td>3513</td>\n",
              "      <td>621</td>\n",
              "    </tr>\n",
              "    <tr>\n",
              "      <th>5275</th>\n",
              "      <td>1aa7dde5dc5249ebc3490c1fbac6ca6df48753a2</td>\n",
              "      <td>Have you had blood testing done to check your ...</td>\n",
              "      <td>entyvio</td>\n",
              "      <td>2</td>\n",
              "      <td>826</td>\n",
              "      <td>168</td>\n",
              "    </tr>\n",
              "  </tbody>\n",
              "</table>\n",
              "<p>98 rows × 6 columns</p>\n",
              "</div>"
            ],
            "text/plain": [
              "                                   unique_hash  ...   Punc\n",
              "633   026b8f717d0bf770bc27fefe3e7f0234428cfb79  ...    241\n",
              "637   9e94c38585be70d0ea2ed9d86d6fdff976edc4b6  ...    203\n",
              "891   f2799a8d9246c4f65abaf0dc83f19eab2e884852  ...    385\n",
              "1196  3d0b6ce9c5e31e3ba656e526e8a7d6c6efd45125  ...   2401\n",
              "1291  73f40082d37e7fe64e9aa28d82506cd7c788cd7b  ...    627\n",
              "1365  22a389de9012a92d0e3395dfff4df8113c98f217  ...    560\n",
              "1429  0fc5ba9dd5ecd99449d5fa1f9d9185158f2ea3f9  ...   2419\n",
              "1579  49da4b5085a72ec0ff219369ac8b7396b0d4c514  ...   2419\n",
              "1648  094cf99144a1d6ae95a8473bcf845f53d5d54545  ...   1202\n",
              "1750  34f80996604786dd9326bcbf468230052dcbbf15  ...    625\n",
              "1753  7ea4d9a3a22992ecef2092c0e2bd290926b624d5  ...    128\n",
              "1792  6081c22ae96d3e55c295a5e84c1d570616884e6b  ...    587\n",
              "1822  a6fd92385c3cd63e1afb2f5b6feacb4c030a0f7e  ...    228\n",
              "1857  1626fb613b9bb757e1204868979766202cebb5cc  ...    144\n",
              "1912  b7d360a4513d305f0429803451361334bb4a88cc  ...    313\n",
              "2210  86c4b58c504b4e4e04916bc2c735f2c0738b7441  ...    167\n",
              "2215  6aa3d3bbdce2177c6bac545065e67cf6ecb3c4eb  ...     73\n",
              "2269  3a359a0d6f4237924545d69d8bdc8bb9f389045e  ...    853\n",
              "2293  dd5f7e3e264dd2740bf5a3b28973bd505fbc281c  ...   2401\n",
              "2295  bef2594e17907587bc06d443907335952eb20f2e  ...    910\n",
              "2370  20ef8038d8f910b979c85315011089788502ef71  ...   6415\n",
              "2483  ccf69b6bb12da58573d175a24245bce17152d915  ...    573\n",
              "2551  4e046da240c9c55fd6060e9ae42f752cdc46c2d3  ...    326\n",
              "2559  37a9723c0a0e04f6b4ac814fcc9cd28b80468019  ...    158\n",
              "2560  df9ced46f17e66bb8ff44e6077831ca56972b6c6  ...   7386\n",
              "2662  8eb6a82aba7915ecb39d4d0e058bf8b0db674ae7  ...    157\n",
              "2663  b052f786b656336e68bbb958c8b79aaef4076c8a  ...  11183\n",
              "2691  bc0a3c97a3442f609168ae2123135b74f0dc7eaf  ...    120\n",
              "2797  0ec5e13d2aa2b4c10b973cec960fccfd5d4a5620  ...   1007\n",
              "2816  cf67b09ce7da03a28cfcd5720848a9c37e95fcff  ...   1538\n",
              "...                                        ...  ...    ...\n",
              "4622  a0fcf0cb51116b625590008c3081a7e14bb5e68d  ...    107\n",
              "4630  f44b3790cd81815cc80bd079fbd69b7d7fe58951  ...    195\n",
              "4659  b45a180ea8a067a52c41116c9dd4fddf72877f79  ...    186\n",
              "4709  7979fada98cd9ccf54393e6a436cc94056d3b16a  ...   2085\n",
              "4710  1cb0c62a33923b6cd52808d7515ea60015f90ab0  ...    320\n",
              "4738  5bde8b450ec6e9e545b7b3e066f1a4c15316be49  ...    649\n",
              "4789  40da6a9c154f604a44563c3f1fe7ee9f27e107d2  ...    163\n",
              "4802  d5e0a58816ecdf28f2efb6bc50f7f67d2d91ec8f  ...    174\n",
              "4825  c4bec66878cf7dd5112d81753b2ecc915ea99d1e  ...    883\n",
              "4873  8c4538c95f02444e9a281058979c5073a3e0c45f  ...    569\n",
              "4899  15b1e94a40ca75e9f0a40f9e3c28b843dfe5dedf  ...     40\n",
              "4930  faa896f06e0e3f5d7de99c829501b15addae0d26  ...    202\n",
              "4974  190f4ed161db82ac711e3b32a04d8a508c75c751  ...    396\n",
              "4977  dd1ee5a2475b69a7f75925eda7464f8ab86f76dd  ...    112\n",
              "4983  a6565e666968a29c2f8c084fd87552e8fcd9ca71  ...   6380\n",
              "5011  91470e80c97a17657d8bec5b57a87131f9f10cc5  ...    574\n",
              "5027  c6bdf7322fdf492dac6589c3a284e1401d6c7493  ...   3084\n",
              "5070  f8daffae3e68be41b0a4b4593d50fee3ed1c03f3  ...   1334\n",
              "5092  006122e79e8c38b49a7c3371bcdf3d5b24cbebab  ...  15432\n",
              "5110  6f7e57f8efd65786adb269aff7852df9a9d7f03d  ...    138\n",
              "5141  0ec0b1dd73d1ebff351171511058f1b34d78052c  ...    639\n",
              "5145  4dedf3d961096f5860fc7012150f45e89a28e358  ...    219\n",
              "5156  398a483bf015af48255c2ace624d9769f4fba5d3  ...   7550\n",
              "5188  11d2b78f0d9803609e61d5f756cfdc4f8f353b36  ...    151\n",
              "5197  b6a4d7da78f56ed54f28836d6e4caebd1a38235d  ...    175\n",
              "5200  54d554c36d602ec72703b61032e456f960c63a0b  ...    183\n",
              "5202  3957eb35a40ca5d9e69b233600cb023188e00011  ...    100\n",
              "5216  0a119851a2190388914ddece50c60ac256ede057  ...    741\n",
              "5225  7ab83680bf0913bc30206053df560e5815d4c2f0  ...    621\n",
              "5275  1aa7dde5dc5249ebc3490c1fbac6ca6df48753a2  ...    168\n",
              "\n",
              "[98 rows x 6 columns]"
            ]
          },
          "metadata": {
            "tags": []
          },
          "execution_count": 5
        }
      ]
    },
    {
      "cell_type": "code",
      "metadata": {
        "id": "rDoC3Y6WRY2E"
      },
      "source": [
        "# train_data_og.text.str.lower().str.len() #char count"
      ],
      "execution_count": null,
      "outputs": []
    },
    {
      "cell_type": "code",
      "metadata": {
        "id": "rYOWuwjCQkPs"
      },
      "source": [
        "# train_data_og.text.str.lower().str.count(\"[a-z0-9]\") # Non pucntuation"
      ],
      "execution_count": null,
      "outputs": []
    },
    {
      "cell_type": "code",
      "metadata": {
        "id": "1FBdzIPBDHMT"
      },
      "source": [
        "# train_data_og.text.str.lower().str.count(\"gilenya\") # Other drug count?"
      ],
      "execution_count": null,
      "outputs": []
    },
    {
      "cell_type": "code",
      "metadata": {
        "id": "RMjReS7bRlVv",
        "colab": {
          "base_uri": "https://localhost:8080/",
          "height": 409
        },
        "outputId": "ef3bfce3-5b3e-42fe-b1e1-6bfc0c653220"
      },
      "source": [
        "# Total Char+\n",
        "sns.distplot( train_data_og.query('sentiment == 0').assign(Length = train_data_og.text.str.lower().str.len())[\"Length\"], color = \"red\", hist_kws = {\"alpha\" : .50}, kde = False )\n",
        "sns.distplot( train_data_og.query('sentiment == 1').assign(Length = train_data_og.text.str.lower().str.len())[\"Length\"], color = \"blue\", hist_kws = {\"alpha\" : .50}, kde = False )\n",
        "sns.distplot( train_data_og.query('sentiment == 2').assign(Length = train_data_og.text.str.lower().str.len())[\"Length\"], color = \"yellow\", hist_kws = {\"alpha\" : .50}, kde = False )"
      ],
      "execution_count": null,
      "outputs": [
        {
          "output_type": "execute_result",
          "data": {
            "text/plain": [
              "<matplotlib.axes._subplots.AxesSubplot at 0x7ff89713b438>"
            ]
          },
          "metadata": {
            "tags": []
          },
          "execution_count": 129
        },
        {
          "output_type": "display_data",
          "data": {
            "image/png": "[encoded data removed]",
            "text/plain": [
              "<Figure size 1440x432 with 1 Axes>"
            ]
          },
          "metadata": {
            "tags": []
          }
        }
      ]
    },
    {
      "cell_type": "code",
      "metadata": {
        "id": "Nib2VtFUSaUT",
        "colab": {
          "base_uri": "https://localhost:8080/",
          "height": 409
        },
        "outputId": "0971351b-03f9-4a58-98b9-4a8335b58749"
      },
      "source": [
        "# Total Char\n",
        "sns.distplot( train_data_og.query('sentiment == 0').assign(Punc = train_data_og.text.str.lower().str.len() - train_data_og.text.str.lower().str.count(\"[a-z0-9]\"))[\"Punc\"], color = \"red\", hist_kws = {\"alpha\" : .50}, kde = False )\n",
        "sns.distplot( train_data_og.query('sentiment == 1').assign(Punc = train_data_og.text.str.lower().str.len() - train_data_og.text.str.lower().str.count(\"[a-z0-9]\"))[\"Punc\"], color = \"blue\", hist_kws = {\"alpha\" : .50}, kde = False )\n",
        "sns.distplot( train_data_og.query('sentiment == 2').assign(Punc = train_data_og.text.str.lower().str.len() - train_data_og.text.str.lower().str.count(\"[a-z0-9]\"))[\"Punc\"], color = \"yellow\", hist_kws = {\"alpha\" : .50}, kde = False )"
      ],
      "execution_count": null,
      "outputs": [
        {
          "output_type": "execute_result",
          "data": {
            "text/plain": [
              "<matplotlib.axes._subplots.AxesSubplot at 0x7ff896e08748>"
            ]
          },
          "metadata": {
            "tags": []
          },
          "execution_count": 130
        },
        {
          "output_type": "display_data",
          "data": {
            "image/png": "[encoded data removed]",
            "text/plain": [
              "<Figure size 1440x432 with 1 Axes>"
            ]
          },
          "metadata": {
            "tags": []
          }
        }
      ]
    },
    {
      "cell_type": "code",
      "metadata": {
        "id": "zzLUTmgcB1zI",
        "colab": {
          "base_uri": "https://localhost:8080/",
          "height": 118
        },
        "outputId": "969ac293-9130-4639-a607-a4ee7542163b"
      },
      "source": [
        "# DO NOT DELETE\n",
        "# from sklearn.feature_extraction.text import CountVectorizer\n",
        "\n",
        "# vectorizer = CountVectorizer(stop_words = \"english\")\n",
        "# train_data = vectorizer.fit_transform(train_data_og.text)\n",
        "\n",
        "# print(train_data.toarray().shape) \n",
        "\n",
        "# len(vectorizer.get_feature_names())\n",
        "# pd.DataFrame(train_data.toarray(), columns=vectorizer.get_feature_names())"
      ],
      "execution_count": null,
      "outputs": [
        {
          "output_type": "execute_result",
          "data": {
            "text/plain": [
              "CountVectorizer(analyzer='word', binary=False, decode_error='strict',\n",
              "                dtype=<class 'numpy.int64'>, encoding='utf-8', input='content',\n",
              "                lowercase=True, max_df=1.0, max_features=None, min_df=1,\n",
              "                ngram_range=(1, 1), preprocessor=None, stop_words='english',\n",
              "                strip_accents=None, token_pattern='(?u)\\\\b\\\\w\\\\w+\\\\b',\n",
              "                tokenizer=None, vocabulary=None)"
            ]
          },
          "metadata": {
            "tags": []
          },
          "execution_count": 15
        }
      ]
    },
    {
      "cell_type": "markdown",
      "metadata": {
        "id": "LIr82FI6kylK"
      },
      "source": [
        "## EDA\n",
        "\n",
        "seaborn or pandas plot as required.  \n",
        "verify labels truth - a new column called sample_weights may be helpful for noisy data."
      ]
    },
    {
      "cell_type": "markdown",
      "metadata": {
        "id": "-8RfdmJcvA5l"
      },
      "source": [
        "### Distribution"
      ]
    },
    {
      "cell_type": "code",
      "metadata": {
        "id": "9oGBGthMvBgu"
      },
      "source": [
        "plt.subplot(1,2,1)\n",
        "sns.countplot(train_data.XXX, order = train_data.xxx.values_count().index )\n",
        "plt.subplot(1,2,2)\n",
        "sns.countplot(sub_data.XXX, order = [1,2,3,4])\n",
        "plt.show()"
      ],
      "execution_count": null,
      "outputs": []
    },
    {
      "cell_type": "markdown",
      "metadata": {
        "id": "1CwMozOik13K"
      },
      "source": [
        "### Univariate\n",
        "\n",
        "Distributions, Outliers"
      ]
    },
    {
      "cell_type": "code",
      "metadata": {
        "id": "LBwNYdi6k3uy",
        "colab": {
          "base_uri": "https://localhost:8080/",
          "height": 526
        },
        "outputId": "c1917bfe-177f-4b5e-8331-efa4e28753c6"
      },
      "source": [
        "plt.subplot(1,2,1)\n",
        "sns.countplot(train_data_og.drug, order = train_data_og.drug.value_counts().index )\n",
        "plt.xticks(rotation=90)\n",
        "\n",
        "plt.subplot(1,2,2)\n",
        "sns.countplot(sub_data_og.drug, order = train_data_og.drug.value_counts().index)\n",
        "plt.xticks(rotation=90)\n",
        "plt.show()"
      ],
      "execution_count": null,
      "outputs": [
        {
          "output_type": "display_data",
          "data": {
            "image/png": "[encoded data removed]",
            "text/plain": [
              "<Figure size 1440x432 with 2 Axes>"
            ]
          },
          "metadata": {
            "tags": []
          }
        }
      ]
    },
    {
      "cell_type": "code",
      "metadata": {
        "id": "EY30lEo76B7s",
        "colab": {
          "base_uri": "https://localhost:8080/",
          "height": 392
        },
        "outputId": "5fab1f64-5b99-43e7-a9f8-f210fe00620d"
      },
      "source": [
        "# 0 positive, 1 negative and 2 neutral\n",
        "\n",
        "sns.countplot(train_data_og.sentiment, order = train_data_og.sentiment.value_counts().index )\n",
        "# plt.xticks(rotation=90)\n",
        "plt.show()"
      ],
      "execution_count": null,
      "outputs": [
        {
          "output_type": "display_data",
          "data": {
            "image/png": "[encoded data removed]",
            "text/plain": [
              "<Figure size 1440x432 with 1 Axes>"
            ]
          },
          "metadata": {
            "tags": []
          }
        }
      ]
    },
    {
      "cell_type": "code",
      "metadata": {
        "id": "DFfqEj5C7qal",
        "colab": {
          "base_uri": "https://localhost:8080/",
          "height": 542
        },
        "outputId": "943525e4-4767-467c-d7ae-32f7f1c5aae1"
      },
      "source": [
        "( train_data_og\n",
        "    .groupby([\"drug\", \"sentiment\"])\n",
        "    .size()\n",
        "    .reset_index()\n",
        "    .pivot(columns='sentiment', index='drug', values=0)\n",
        "    .rename(columns = {0 : 'positive', 1 : 'negative', 2 : 'neutral'})\n",
        "    .plot(kind='bar', stacked=True) \n",
        ")"
      ],
      "execution_count": null,
      "outputs": [
        {
          "output_type": "execute_result",
          "data": {
            "text/plain": [
              "<matplotlib.axes._subplots.AxesSubplot at 0x7fb8ca8ff4a8>"
            ]
          },
          "metadata": {
            "tags": []
          },
          "execution_count": 68
        },
        {
          "output_type": "display_data",
          "data": {
            "image/png": "[encoded data removed]",
            "text/plain": [
              "<Figure size 1440x432 with 1 Axes>"
            ]
          },
          "metadata": {
            "tags": []
          }
        }
      ]
    },
    {
      "cell_type": "markdown",
      "metadata": {
        "id": "oWDE2fUvk4Gi"
      },
      "source": [
        "### Bivariate\n",
        "\n",
        "Comparision, corelation"
      ]
    },
    {
      "cell_type": "code",
      "metadata": {
        "id": "ZRRAHHJ9k9uZ"
      },
      "source": [
        "plt.subplot(1,2,1)\n",
        "sns.countplot(train_data.XXX, order = train_data.xxx.values_count().index )\n",
        "plt.subplot(1,2,2)\n",
        "sns.countplot(sub_data.XXX, order = [1,2,3,4])\n",
        "plt.show()"
      ],
      "execution_count": null,
      "outputs": []
    },
    {
      "cell_type": "markdown",
      "metadata": {
        "id": "a2LwraaKk-f2"
      },
      "source": [
        "### With sub_data\n",
        "\n",
        "Submit pattern, cv on, splitted on"
      ]
    },
    {
      "cell_type": "code",
      "metadata": {
        "id": "PHvJLxC3lDC-"
      },
      "source": [
        ""
      ],
      "execution_count": null,
      "outputs": []
    },
    {
      "cell_type": "markdown",
      "metadata": {
        "id": "POPDGccol9av"
      },
      "source": [
        "## Data Validation\n",
        "\n",
        "Replace xxx with proper data  \n",
        "\n",
        "1) Random split\n",
        "2) Catogorical split\n",
        "3) Time based split"
      ]
    },
    {
      "cell_type": "code",
      "metadata": {
        "id": "JDI8OstdOYoM",
        "colab": {
          "base_uri": "https://localhost:8080/",
          "height": 67
        },
        "outputId": "ba5a1dc5-8dfa-482d-fd07-b8c3ff2b011b"
      },
      "source": [
        "X_train, X_test = train_test_split(train_data_og, test_size = 0.25, train_size = 0.75, random_state = 42)\n",
        "\n",
        "print(\"Train set shape is %s\" % X_train.shape[0])\n",
        "print(\"Test set shape is %s\" % X_test.shape[0])\n",
        "print(\"Submission set shape is %s\" % sub_data_og.shape[0])"
      ],
      "execution_count": null,
      "outputs": [
        {
          "output_type": "stream",
          "text": [
            "Train set shape is 3959\n",
            "Test set shape is 1320\n",
            "Submission set shape is 2924\n"
          ],
          "name": "stdout"
        }
      ]
    },
    {
      "cell_type": "code",
      "metadata": {
        "id": "PjZWAWq3mA6_"
      },
      "source": [
        "# X = train_data.drop(['xxx'], axis = 1)\n",
        "# y = train_data[\"xxx\"]\n",
        "\n",
        "# cat_train, cat_test, y_train, y_test = train_test_split(X, y, test_size = 0.25, train_size = 0.75, stratify = train_data[\"xxx\"])\n",
        "\n",
        "# X = pd.get_dummies(X) #, dummy_na = True\n",
        "# X_sub = pd.get_dummies(sub_data)\n",
        "\n",
        "# X_train, X_test, y_train, y_test = train_test_split(X, y, test_size = 0.25, train_size = 0.75, stratify = train_data[\"xxx\"])"
      ],
      "execution_count": null,
      "outputs": []
    },
    {
      "cell_type": "code",
      "metadata": {
        "id": "oWov4F1X4fS4"
      },
      "source": [
        "# print(\"Train set rows %s, cols %s and y is %s\" % (X_train.shape[0], X_train.shape[1], y_train.shape[0]))\n",
        "# print(\"Test set rows %s, cols %s and y is %s\" % (X_test.shape[0], X_test.shape[1], y_test.shape[0]))\n",
        "# print(\"Submission set rows %s, cols %s and y is to be predicted\" % (X_sub.shape[0], X_sub.shape[1]))"
      ],
      "execution_count": null,
      "outputs": []
    },
    {
      "cell_type": "code",
      "metadata": {
        "id": "E4srHMrg256_"
      },
      "source": [
        "# # Run only if required\n",
        "\n",
        "# for x in set(X_train.columns) - set(X_sub.columns) :\n",
        "#     X_sub[x] = 0\n",
        "\n",
        "# X_sub = X_sub[X.columns]\n",
        "    \n",
        "# print(\"Submission set rows %s, cols %s and y is to be predicted\" % (X_sub.shape[0], X_sub.shape[1]))"
      ],
      "execution_count": null,
      "outputs": []
    },
    {
      "cell_type": "markdown",
      "metadata": {
        "id": "TUu75iqsy2VW"
      },
      "source": [
        "### Validataion EDA"
      ]
    },
    {
      "cell_type": "code",
      "metadata": {
        "id": "hdCMjXFJy1wc"
      },
      "source": [
        ""
      ],
      "execution_count": null,
      "outputs": []
    },
    {
      "cell_type": "markdown",
      "metadata": {
        "id": "QOYLC_QQyISa"
      },
      "source": [
        "## Modeling\n",
        "\n",
        "For Regression verify distribution.  \n",
        "For Classification verify confusion matrix.  \n",
        "Use 10 fold cross validation to verify final model.  "
      ]
    },
    {
      "cell_type": "markdown",
      "metadata": {
        "id": "wMG4MTEvza_Z"
      },
      "source": [
        "### Submission Part\n",
        "\n",
        "Ensure that model is trained on whole set"
      ]
    },
    {
      "cell_type": "code",
      "metadata": {
        "id": "fh274m4HzbfZ"
      },
      "source": [
        ""
      ],
      "execution_count": null,
      "outputs": []
    },
    {
      "cell_type": "markdown",
      "metadata": {
        "id": "7bUgq588y6cz"
      },
      "source": [
        "### XGBoost\n",
        "\n",
        "Monitor metric performance on both train and test.  "
      ]
    },
    {
      "cell_type": "code",
      "metadata": {
        "id": "Dey0Yx9Dy8fK"
      },
      "source": [
        "\n",
        "xgb_model = xgb.XGBClassifier(learning_rate=0.01, scale_pos_weight = weight, n_estimators = 100000)\n",
        "xgb_model.fit(X_train, y_train, eval_metric = \"xxx\", eval_set = [(X_train, y_train), (X_test, y_test)], verbose = 1000, early_stopping_rounds=10)\n",
        "\n",
        "#joblib.dump(xgb_model, \"drive/My Drive/PyColab Work/xxx/xgb_model.sav\")\n",
        "#confusion_matrix(y_train, xgb_model.predict(X_train))"
      ],
      "execution_count": null,
      "outputs": []
    },
    {
      "cell_type": "code",
      "metadata": {
        "id": "PNhNI6Aw2iJa"
      },
      "source": [
        "100 - np.sqrt(mean_squared_error(y_train, xgb_model.predict(X_train)))"
      ],
      "execution_count": null,
      "outputs": []
    },
    {
      "cell_type": "code",
      "metadata": {
        "id": "Kit_SVbB2otO"
      },
      "source": [
        "100 - np.sqrt(mean_squared_error(y_test, xgb_model.predict(X_test)))"
      ],
      "execution_count": null,
      "outputs": []
    },
    {
      "cell_type": "code",
      "metadata": {
        "id": "berHY8Ws2q5w"
      },
      "source": [
        "groups = X_train[[\"Transmission\", \"Fuel_Type_CNG\", \"Fuel_Type_Diesel\", \"Fuel_Type_Electric\", \"Fuel_Type_LPG\", \"Fuel_Type_Petrol\"]]\n",
        "\n",
        "cross_val_score(xgb_model, X_train, y_train, cv = 5, groups = groups) # Add Fuel Type as well"
      ],
      "execution_count": null,
      "outputs": []
    },
    {
      "cell_type": "code",
      "metadata": {
        "id": "6j2M1Nh008Ei"
      },
      "source": [
        "plt.figure(figsize = (20, 5))\n",
        "sns.barplot(\"feature\", \"imp\", data = pd.DataFrame( {'feature' : X_train.columns, 'imp' : xgb_model.feature_importances_ }).sort_values(\"imp\", ascending = False) )\n",
        "plt.xticks(rotation = 90)\n",
        "plt.show()"
      ],
      "execution_count": null,
      "outputs": []
    },
    {
      "cell_type": "markdown",
      "metadata": {
        "id": "tcqsa8qGz-HH"
      },
      "source": [
        "#### SHAP"
      ]
    },
    {
      "cell_type": "code",
      "metadata": {
        "id": "lkAGzGL6z9vF"
      },
      "source": [
        "explainer = shap.TreeExplainer(xgb_model)\n",
        "\n",
        "nsize = 1000\n",
        "\n",
        "shap_values = explainer.shap_values(X_train.iloc[0:nsize,:])\n",
        "shap.summary_plot(shap_values, X_train.iloc[0:nsize,:])\n",
        "\n",
        "plt.show()"
      ],
      "execution_count": null,
      "outputs": []
    },
    {
      "cell_type": "code",
      "metadata": {
        "id": "Gypbmna9uTil"
      },
      "source": [
        "shap_values = explainer.shap_values(X_test.iloc[0:nsize,:])\n",
        "b = shap.summary_plot(shap_values, X_test.iloc[0:nsize,:])"
      ],
      "execution_count": null,
      "outputs": []
    },
    {
      "cell_type": "markdown",
      "metadata": {
        "id": "zxBRjn_R1tnL"
      },
      "source": [
        "#### Hyperparameter Tuning\n",
        "\n",
        "Draw appropriate graph to understand impact of two hyperparameters.  \n",
        "eg: rounds to maxdepth can give an idea where it overfits."
      ]
    },
    {
      "cell_type": "markdown",
      "metadata": {
        "id": "sf0xtdx_0OM8"
      },
      "source": [
        "##### GridSearchCV"
      ]
    },
    {
      "cell_type": "code",
      "metadata": {
        "id": "mUf0tNJs0N86"
      },
      "source": [
        "cv= RepeatedKFold(2, 2)\n",
        "xgb_engine = xgb.XGBRegressor() #n_estimator not used\n",
        "xgb_params = {'booster' : ['gbtree'],\n",
        "              'max_depth' : [3, 4], \n",
        "              'gamma' : [0], \n",
        "              'learning_rate' : [0.3], \n",
        "              \"n_estimators\" : [100000], \n",
        "              'min_child_weight' : [5, 10], \n",
        "              'subsample' : [1], \n",
        "              'colsample_bytree' : [0.7, 1], \n",
        "              'colsample_bylevel' : [1], \n",
        "              'colsample_bynode' : [1], \n",
        "              'reg_lambda' : [0], \n",
        "              'reg_alpha' : [0]}\n",
        "\n",
        "xgb_grid = GridSearchCV(xgb_engine, xgb_params, cv = cv, n_jobs = 4, verbose = 0, return_train_score  = True)\n",
        "xgb_grid.fit(X_train, y_train, eval_set = [(X_train, y_train)], early_stopping_rounds=10, verbose = 1000)\n",
        "\n",
        "#joblib.dump(xgb_grid, \"F:/Vasim/Python Stuff/Flight/gridxgboost.sav\")\n",
        "\n",
        "#print( np.sqrt( -cross_val_score(xgb_grid.best_estimator_, X_train, y_train, cv = cv, scoring = \"neg_mean_squared_error\") ) )\n",
        "#print( np.sqrt( mean_squared_error(y_test, xgb_grid.predict(X_test)) ) )"
      ],
      "execution_count": null,
      "outputs": []
    },
    {
      "cell_type": "markdown",
      "metadata": {
        "id": "rU9QzdS4Qzgi"
      },
      "source": [
        "##### Skopt"
      ]
    },
    {
      "cell_type": "code",
      "metadata": {
        "id": "XxdS8V-6QyyW"
      },
      "source": [
        "from skopt.space import Integer, Categorical, Real\n",
        "from skopt.utils import use_named_args\n",
        "from skopt import gp_minimize\n",
        "\n",
        "# set up hyperparameter space\n",
        "space = [Integer(3, 50, name='max_depth'),\n",
        "         Integer(8, 200, name='n_estimators'),\n",
        "         Integer(3, 50, name='min_child_weight'),\n",
        "         Real(0.001, 1.0, name='learning_rate')]\n",
        "\n",
        "regressor = xgb.XGBRegressor()\n",
        "\n",
        "from sklearn.model_selection import cross_val_score\n",
        "\n",
        "@use_named_args(space)\n",
        "def objective(**params):\n",
        "    regressor.set_params(**params)\n",
        "    return -np.mean(cross_val_score(regressor, X_train, y_train, cv=5, n_jobs=1, scoring='neg_mean_squared_error'))"
      ],
      "execution_count": null,
      "outputs": []
    },
    {
      "cell_type": "code",
      "metadata": {
        "id": "ZI0edKA0Q2v9"
      },
      "source": [
        "reg_gp = gp_minimize(objective, space, verbose=False)\n",
        "\n",
        "print('best score: {}'.format(reg_gp.fun))\n",
        "\n",
        "print('best params:')\n",
        "print('        max_depth: {}'.format(reg_gp.x[0]))\n",
        "print('     n_estimators: {}'.format(reg_gp.x[1]))\n",
        "print(' min_child_weight: {}'.format(reg_gp.x[2]))\n",
        "print('    learning_rate: {}'.format(reg_gp.x[3]))"
      ],
      "execution_count": null,
      "outputs": []
    },
    {
      "cell_type": "code",
      "metadata": {
        "id": "F-JY6U5rQ4jX"
      },
      "source": [
        "import skopt.plots\n",
        "skopt.plots.plot_convergence(reg_gp)"
      ],
      "execution_count": null,
      "outputs": []
    },
    {
      "cell_type": "code",
      "metadata": {
        "id": "oDO1SkeOQ6Cc"
      },
      "source": [
        "skopt.plots.plot_evaluations(reg_gp, bins = 20)\n",
        "plt.show()"
      ],
      "execution_count": null,
      "outputs": []
    },
    {
      "cell_type": "code",
      "metadata": {
        "id": "U4KPJyRrQ8TC"
      },
      "source": [
        "skopt.plots.plot_objective(reg_gp)\n",
        "plt.show()"
      ],
      "execution_count": null,
      "outputs": []
    },
    {
      "cell_type": "markdown",
      "metadata": {
        "id": "XNj62WgORNi5"
      },
      "source": [
        "##### Hyperopt"
      ]
    },
    {
      "cell_type": "code",
      "metadata": {
        "id": "kFsi83NARPw4"
      },
      "source": [
        ""
      ],
      "execution_count": null,
      "outputs": []
    },
    {
      "cell_type": "markdown",
      "metadata": {
        "id": "RARcaL1Iy88i"
      },
      "source": [
        "### LightGBM\n",
        "Inbuilt Categorical features"
      ]
    },
    {
      "cell_type": "code",
      "metadata": {
        "id": "7B1rRAyVy-_y"
      },
      "source": [
        "lgbm_model = lgb.LGBMRegressor(learning_rate=0.01, n_estimators=100000)\n",
        "lgbm_model.fit(X_train, y_train, eval_set = [(X_test, y_test)], early_stopping_rounds=100, verbose = 1000)"
      ],
      "execution_count": null,
      "outputs": []
    },
    {
      "cell_type": "markdown",
      "metadata": {
        "id": "pgavaNvY0IZm"
      },
      "source": [
        "#### SHAP"
      ]
    },
    {
      "cell_type": "code",
      "metadata": {
        "id": "C7wBWbN90IZn"
      },
      "source": [
        "explainer = shap.TreeExplainer(lgbm_model)\n",
        "\n",
        "nsize = 1000\n",
        "\n",
        "shap_values = explainer.shap_values(X_train.iloc[0:nsize,:])\n",
        "shap.summary_plot(shap_values, X_train.iloc[0:nsize,:])\n",
        "\n",
        "plt.show()"
      ],
      "execution_count": null,
      "outputs": []
    },
    {
      "cell_type": "markdown",
      "metadata": {
        "id": "nTyrMKfY0VG8"
      },
      "source": [
        "#### Hyperparamter Tuning"
      ]
    },
    {
      "cell_type": "code",
      "metadata": {
        "id": "IfEqthrB0VG9"
      },
      "source": [
        "lgbm_engine = lgb.LGBMRegressor()\n",
        "lgbm_params = {'max_depth' : [17], 'learning_rate' : [0.05], 'n_estimators': [100000],  'min_child_samples' : [3], 'num_leaves' : [40], 'min_child_weight' : [0.001], \n",
        "               'min_split_gain' : [0], 'colsample_bytree' : [0.3], 'reg_alpha' : [0], 'reg_lamba' : [0], 'importance_type' : ['split'] }\n",
        "\n",
        "lgbm_grid = GridSearchCV(lgbm_engine, lgbm_params, cv = 4, n_jobs = 4, verbose = 0)\n",
        "lgbm_grid.fit(X_train, y_train, eval_set = [(X_test, y_test)], early_stopping_rounds=100, verbose = 1000)\n",
        "#print( np.sqrt( -cross_val_score(lgbm_grid.best_estimator_, X_train, y_train, cv = 5, scoring = \"neg_mean_squared_error\") ) )\n",
        "#print( np.sqrt( mean_squared_error(y_test, lgbm_grid.predict(X_test)) ) )"
      ],
      "execution_count": null,
      "outputs": []
    },
    {
      "cell_type": "markdown",
      "metadata": {
        "id": "cVcYEsZhy_si"
      },
      "source": [
        "### CatBoost\n",
        "\n",
        "Inbuilt Categorical features  \n",
        "\n",
        "The cat.cv - inbuilt cross validation gives cross validated result on each iterations.   \n",
        "The only hyperparameter we can select from in built cv is no of iteration.  \n",
        "Try sklearn cv type with for loop for cv score or skopt or hyperopt module.  "
      ]
    },
    {
      "cell_type": "code",
      "metadata": {
        "id": "8S5NYLszzAIS"
      },
      "source": [
        "from catboost import CatBoostRegressor, Pool\n",
        "categorical_features_indices = np.where(cat_train.dtypes == 'object')[0]\n",
        "\n",
        "cat_model = CatBoostRegressor(iterations = 100000, learning_rate = 0.01)\n",
        "cat_model.fit(cat_train, y_train, eval_set = (cat_test, y_test), cat_features = categorical_features_indices, plot = True, verbose = 1000, early_stopping_rounds=100)\n",
        "\n",
        "#print( np.sqrt( -cross_val_score(cat_model, X_train, y_train, cv = 5, scoring = \"neg_mean_squared_error\", verbose = False) ) )\n",
        "#np.sqrt(mean_squared_error(y_test, cat_model.predict(X_test)))"
      ],
      "execution_count": null,
      "outputs": []
    },
    {
      "cell_type": "markdown",
      "metadata": {
        "id": "oQWOgbKL0Gji"
      },
      "source": [
        "#### SHAP"
      ]
    },
    {
      "cell_type": "code",
      "metadata": {
        "id": "TjAHY8u-0Gjj"
      },
      "source": [
        "explainer = shap.TreeExplainer(cat_model)\n",
        "\n",
        "nsize = 1000\n",
        "\n",
        "shap_values = explainer.shap_values(X_train.iloc[0:nsize,:])\n",
        "shap.summary_plot(shap_values, X_train.iloc[0:nsize,:])\n",
        "\n",
        "plt.show()"
      ],
      "execution_count": null,
      "outputs": []
    },
    {
      "cell_type": "markdown",
      "metadata": {
        "id": "pLT0C72m0Vjh"
      },
      "source": [
        "#### Hyperparamter Tuning"
      ]
    },
    {
      "cell_type": "code",
      "metadata": {
        "id": "9X3_BBk50Vji"
      },
      "source": [
        "cat_engine = CatBoostRegressor()\n",
        "cat_params = {'max_depth' : [4], 'learning_rate' : [0.1], 'iterations': [100000], 'colsample_bylevel' : [1]}\n",
        "    \n",
        "cat_grid = GridSearchCV(cat_engine, cat_params, cv = 4, n_jobs = 4, verbose = False)\n",
        "cat_grid.fit(cat_train, y_train, eval_set = (cat_val, y_val), cat_features = categorical_features_indices, plot = True, verbose = 1000, early_stopping_rounds=100)"
      ],
      "execution_count": null,
      "outputs": []
    },
    {
      "cell_type": "markdown",
      "metadata": {
        "id": "6sN6540ezFEh"
      },
      "source": [
        "### SVM\n",
        "\n",
        "Apply scaling"
      ]
    },
    {
      "cell_type": "code",
      "metadata": {
        "id": "8q_mgTlJzEqJ"
      },
      "source": [
        "#%%script false\n",
        "\n",
        "from sklearn.svm import SVR\n",
        "from sklearn.preprocessing import StandardScaler, MinMaxScaler\n",
        "\n",
        "#Scaling only on numeric data.\n",
        "svmpipe = Pipeline([ ( \"std\", StandardScaler() ), (\"mimax\", MinMaxScaler()) , ( \"svm\", SVR(gamma = 'scale', kernel = 'rbf', C = 1.5, epsilon = 0.1, max_iter=-1) ) ])\n",
        "svmpipe.fit(X_train, y_train)\n",
        "\n",
        "#np.sqrt( -cross_val_score(svmpipe, X_train.astype(float), y_train.astype(float), cv = 5, scoring = \"neg_mean_squared_error\") )\n",
        "np.sqrt( mean_squared_error(y_test, svmpipe.predict(X_test))) "
      ],
      "execution_count": null,
      "outputs": []
    },
    {
      "cell_type": "markdown",
      "metadata": {
        "id": "FiK9TDZ80JTa"
      },
      "source": [
        "#### SHAP"
      ]
    },
    {
      "cell_type": "code",
      "metadata": {
        "id": "1PEvvBai0JTb"
      },
      "source": [
        ""
      ],
      "execution_count": null,
      "outputs": []
    },
    {
      "cell_type": "markdown",
      "metadata": {
        "id": "0bUKbEY00WjY"
      },
      "source": [
        "#### Hyperparamter Tuning"
      ]
    },
    {
      "cell_type": "code",
      "metadata": {
        "id": "F-Otyq-80WjZ"
      },
      "source": [
        ""
      ],
      "execution_count": null,
      "outputs": []
    },
    {
      "cell_type": "markdown",
      "metadata": {
        "id": "W4S_DeexzHOp"
      },
      "source": [
        "### KNN\n",
        "\n",
        "Apply scaling"
      ]
    },
    {
      "cell_type": "code",
      "metadata": {
        "id": "EVi3EkpIzG7J"
      },
      "source": [
        "from sklearn.neighbors import KNeighborsRegressor\n",
        "from sklearn.preprocessing import StandardScaler, normalize, MinMaxScaler\n",
        "\n",
        "#Scaling on numeric data only\n",
        "neigh = KNeighborsRegressor(n_neighbors=5)\n",
        "knnpipe = Pipeline([ ( \"std\", StandardScaler() ), (\"minmax\", MinMaxScaler() ), ( \"knn\", neigh ) ])\n",
        "\n",
        "#scale data\n",
        "knnpipe.fit(X_train, y_train) \n",
        "print( np.sqrt( -cross_val_score(neigh, X_train, y_train, cv = 5, scoring = \"neg_mean_squared_error\") ) )\n",
        "#np.sqrt(mean_squared_error(y_test, neigh.predict(X_test)))"
      ],
      "execution_count": null,
      "outputs": []
    },
    {
      "cell_type": "markdown",
      "metadata": {
        "id": "-gk4sQqE0J4Q"
      },
      "source": [
        "#### SHAP"
      ]
    },
    {
      "cell_type": "code",
      "metadata": {
        "id": "4stKspHI0J4T"
      },
      "source": [
        ""
      ],
      "execution_count": null,
      "outputs": []
    },
    {
      "cell_type": "markdown",
      "metadata": {
        "id": "zAxVM-R40XKX"
      },
      "source": [
        "#### Hyperparamter Tuning"
      ]
    },
    {
      "cell_type": "code",
      "metadata": {
        "id": "s08daRE-0XKY"
      },
      "source": [
        ""
      ],
      "execution_count": null,
      "outputs": []
    },
    {
      "cell_type": "markdown",
      "metadata": {
        "id": "pvtU9jGszJGQ"
      },
      "source": [
        "### Keras\n",
        "\n",
        "Apply scaling"
      ]
    },
    {
      "cell_type": "code",
      "metadata": {
        "id": "FDS42j5JzI6p"
      },
      "source": [
        "#!pip install tensorboardcolab\n",
        "# Apply scaling\n",
        "\n",
        "from tensorboardcolab import TensorBoardColab, TensorBoardColabCallback\n",
        "from keras.models import Sequential\n",
        "from keras.layers import Dense, Dropout\n",
        "#tbc=TensorBoardColab()\n",
        "\n",
        "model2 = Sequential()\n",
        "model2.add(Dense(200, input_dim=X_train.shape[1], kernel_initializer='normal', activation='relu'))\n",
        "model2.add(Dense(30, kernel_initializer='normal', activation='relu'))\n",
        "model2.add(Dropout(.10))\n",
        "#model.add(Dense(10, kernel_initializer='normal', activation='relu'))\n",
        "#model.add(Dropout(.10))\n",
        "model2.add(Dense(1, kernel_initializer='normal'))\n",
        "\n",
        "model2.compile(loss='mean_squared_error', optimizer='adam')\n",
        "\n",
        "model2.fit(X_train, y_train, epochs = 18, verbose = 0) #callbacks=[TensorBoardColabCallback(tbc)]\n",
        "pd.DataFrame( {\"Actual\" : np.exp(y_test), \"Predict\" : np.exp(model2.predict(X_test)[0:,0])} ).describe()"
      ],
      "execution_count": null,
      "outputs": []
    },
    {
      "cell_type": "markdown",
      "metadata": {
        "id": "GrzRndbU0LVT"
      },
      "source": [
        "#### SHAP"
      ]
    },
    {
      "cell_type": "code",
      "metadata": {
        "id": "rJm320f60LVU"
      },
      "source": [
        ""
      ],
      "execution_count": null,
      "outputs": []
    },
    {
      "cell_type": "markdown",
      "metadata": {
        "id": "AzzWA0wb0Xt2"
      },
      "source": [
        "#### Hyperparamter Tuning"
      ]
    },
    {
      "cell_type": "code",
      "metadata": {
        "id": "dTxCbRg80Xt4"
      },
      "source": [
        ""
      ],
      "execution_count": null,
      "outputs": []
    },
    {
      "cell_type": "markdown",
      "metadata": {
        "id": "EZEQP33kzN7Y"
      },
      "source": [
        "### Linear\n",
        "\n",
        "inludes - Logistic  \n",
        "Panelty - Ridge, Lasso and ElasticNet  \n"
      ]
    },
    {
      "cell_type": "code",
      "metadata": {
        "id": "K1ROVFVuzNrh"
      },
      "source": [
        "from sklearn.feature_extraction.text import CountVectorizer, TfidfVectorizer\n",
        "from sklearn.linear_model import LogisticRegressionCV\n",
        "from sklearn.pipeline import make_pipeline\n",
        "\n",
        "# vec = CountVectorizer(stop_words=\"english\")\n",
        "# clf = LogisticRegressionCV()\n",
        "# pipe = make_pipeline(vec, clf)\n",
        "# pipe.fit(X_train.text, X_train.sentiment);"
      ],
      "execution_count": null,
      "outputs": []
    },
    {
      "cell_type": "code",
      "metadata": {
        "id": "o3_0BIozKZzc",
        "colab": {
          "base_uri": "https://localhost:8080/",
          "height": 34
        },
        "outputId": "d7c0e962-2673-4b3c-96d1-c376201c7415"
      },
      "source": [
        "f1_score(X_test.sentiment, pipe.predict(X_test.text), average = \"macro\")"
      ],
      "execution_count": null,
      "outputs": [
        {
          "output_type": "execute_result",
          "data": {
            "text/plain": [
              "0.3277842887837599"
            ]
          },
          "metadata": {
            "tags": []
          },
          "execution_count": 85
        }
      ]
    },
    {
      "cell_type": "code",
      "metadata": {
        "id": "4V_aG13ZIATi"
      },
      "source": [
        "from sklearn import metrics\n",
        "\n",
        "def print_report(pipe):\n",
        "    y_test = X_test.sentiment\n",
        "    y_pred = pipe.predict(X_test.text)\n",
        "    report = metrics.classification_report(y_test, y_pred) # target_names=train_data_og.sentiment\n",
        "    print(report)\n",
        "    print(\"accuracy: {:0.5f}\".format(metrics.accuracy_score(y_test, y_pred)))\n",
        "    print(\"f1 score: {:0.5f}\".format(f1_score(y_test, y_pred, average = \"macro\")))\n"
      ],
      "execution_count": null,
      "outputs": []
    },
    {
      "cell_type": "code",
      "metadata": {
        "id": "Z0rCwPm3IuHD",
        "colab": {
          "base_uri": "https://localhost:8080/",
          "height": 218
        },
        "outputId": "3f0ccec3-5803-4c22-b14b-f51d43b6eae3"
      },
      "source": [
        "import eli5\n",
        "eli5.show_weights(clf, vec=vec, top=10,\n",
        "                  target_names=train_data_og.sentiment)"
      ],
      "execution_count": null,
      "outputs": [
        {
          "output_type": "execute_result",
          "data": {
            "text/html": [
              "\n",
              "    <style>\n",
              "    table.eli5-weights tr:hover {\n",
              "        filter: brightness(85%);\n",
              "    }\n",
              "</style>\n",
              "\n",
              "\n",
              "\n",
              "    \n",
              "\n",
              "    \n",
              "\n",
              "    \n",
              "\n",
              "    \n",
              "\n",
              "    \n",
              "\n",
              "    \n",
              "\n",
              "\n",
              "    \n",
              "\n",
              "    \n",
              "\n",
              "    \n",
              "\n",
              "    \n",
              "\n",
              "    \n",
              "\n",
              "    \n",
              "\n",
              "\n",
              "    \n",
              "\n",
              "    \n",
              "\n",
              "    \n",
              "\n",
              "    \n",
              "\n",
              "    \n",
              "        <table class=\"eli5-weights eli5-feature-importances\" style=\"border-collapse: collapse; border: none; margin-top: 0em; table-layout: auto;\">\n",
              "    <thead>\n",
              "    <tr style=\"border: none;\">\n",
              "        <th style=\"padding: 0 1em 0 0.5em; text-align: right; border: none;\">Weight</th>\n",
              "        <th style=\"padding: 0 0.5em 0 0.5em; text-align: left; border: none;\">Feature</th>\n",
              "    </tr>\n",
              "    </thead>\n",
              "    <tbody>\n",
              "    \n",
              "        <tr style=\"background-color: hsl(120, 100.00%, 80.00%); border: none;\">\n",
              "            <td style=\"padding: 0 1em 0 0.5em; text-align: right; border: none;\">\n",
              "                0.0056\n",
              "                \n",
              "            </td>\n",
              "            <td style=\"padding: 0 0.5em 0 0.5em; text-align: left; border: none;\">\n",
              "                relapsing ms\n",
              "            </td>\n",
              "        </tr>\n",
              "    \n",
              "        <tr style=\"background-color: hsl(120, 100.00%, 81.12%); border: none;\">\n",
              "            <td style=\"padding: 0 1em 0 0.5em; text-align: right; border: none;\">\n",
              "                0.0052\n",
              "                \n",
              "            </td>\n",
              "            <td style=\"padding: 0 0.5em 0 0.5em; text-align: left; border: none;\">\n",
              "                disability progression\n",
              "            </td>\n",
              "        </tr>\n",
              "    \n",
              "        <tr style=\"background-color: hsl(120, 100.00%, 81.20%); border: none;\">\n",
              "            <td style=\"padding: 0 1em 0 0.5em; text-align: right; border: none;\">\n",
              "                0.0051\n",
              "                \n",
              "            </td>\n",
              "            <td style=\"padding: 0 0.5em 0 0.5em; text-align: left; border: none;\">\n",
              "                high efficacy\n",
              "            </td>\n",
              "        </tr>\n",
              "    \n",
              "        <tr style=\"background-color: hsl(120, 100.00%, 81.43%); border: none;\">\n",
              "            <td style=\"padding: 0 1em 0 0.5em; text-align: right; border: none;\">\n",
              "                0.0051\n",
              "                \n",
              "            </td>\n",
              "            <td style=\"padding: 0 0.5em 0 0.5em; text-align: left; border: none;\">\n",
              "                results presented\n",
              "            </td>\n",
              "        </tr>\n",
              "    \n",
              "        <tr style=\"background-color: hsl(120, 100.00%, 81.71%); border: none;\">\n",
              "            <td style=\"padding: 0 1em 0 0.5em; text-align: right; border: none;\">\n",
              "                0.0049\n",
              "                \n",
              "            </td>\n",
              "            <td style=\"padding: 0 0.5em 0 0.5em; text-align: left; border: none;\">\n",
              "                lung cancer\n",
              "            </td>\n",
              "        </tr>\n",
              "    \n",
              "        <tr style=\"background-color: hsl(120, 100.00%, 81.73%); border: none;\">\n",
              "            <td style=\"padding: 0 1em 0 0.5em; text-align: right; border: none;\">\n",
              "                0.0049\n",
              "                \n",
              "            </td>\n",
              "            <td style=\"padding: 0 0.5em 0 0.5em; text-align: left; border: none;\">\n",
              "                cell lung\n",
              "            </td>\n",
              "        </tr>\n",
              "    \n",
              "        <tr style=\"background-color: hsl(120, 100.00%, 81.85%); border: none;\">\n",
              "            <td style=\"padding: 0 1em 0 0.5em; text-align: right; border: none;\">\n",
              "                0.0049\n",
              "                \n",
              "            </td>\n",
              "            <td style=\"padding: 0 0.5em 0 0.5em; text-align: left; border: none;\">\n",
              "                april 2016\n",
              "            </td>\n",
              "        </tr>\n",
              "    \n",
              "        <tr style=\"background-color: hsl(120, 100.00%, 81.90%); border: none;\">\n",
              "            <td style=\"padding: 0 1em 0 0.5em; text-align: right; border: none;\">\n",
              "                0.0049\n",
              "                \n",
              "            </td>\n",
              "            <td style=\"padding: 0 0.5em 0 0.5em; text-align: left; border: none;\">\n",
              "                felt like\n",
              "            </td>\n",
              "        </tr>\n",
              "    \n",
              "        <tr style=\"background-color: hsl(120, 100.00%, 81.94%); border: none;\">\n",
              "            <td style=\"padding: 0 1em 0 0.5em; text-align: right; border: none;\">\n",
              "                0.0049\n",
              "                \n",
              "            </td>\n",
              "            <td style=\"padding: 0 0.5em 0 0.5em; text-align: left; border: none;\">\n",
              "                ulcerative colitis\n",
              "            </td>\n",
              "        </tr>\n",
              "    \n",
              "        <tr style=\"background-color: hsl(120, 100.00%, 81.96%); border: none;\">\n",
              "            <td style=\"padding: 0 1em 0 0.5em; text-align: right; border: none;\">\n",
              "                0.0049\n",
              "                \n",
              "            </td>\n",
              "            <td style=\"padding: 0 0.5em 0 0.5em; text-align: left; border: none;\">\n",
              "                non small\n",
              "            </td>\n",
              "        </tr>\n",
              "    \n",
              "    \n",
              "        \n",
              "            <tr style=\"background-color: hsl(120, 100.00%, 81.96%); border: none;\">\n",
              "                <td colspan=\"2\" style=\"padding: 0 0.5em 0 0.5em; text-align: center; border: none; white-space: nowrap;\">\n",
              "                    <i>&hellip; 392461 more &hellip;</i>\n",
              "                </td>\n",
              "            </tr>\n",
              "        \n",
              "    \n",
              "    </tbody>\n",
              "</table>\n",
              "    \n",
              "\n",
              "    \n",
              "\n",
              "\n",
              "    \n",
              "\n",
              "    \n",
              "\n",
              "    \n",
              "\n",
              "    \n",
              "\n",
              "    \n",
              "\n",
              "    \n",
              "\n",
              "\n",
              "\n"
            ],
            "text/plain": [
              "<IPython.core.display.HTML object>"
            ]
          },
          "metadata": {
            "tags": []
          },
          "execution_count": 15
        }
      ]
    },
    {
      "cell_type": "code",
      "metadata": {
        "id": "czojiK4aK7py"
      },
      "source": [
        "# targets=[0]\n",
        "print(\"actual\", X_test.sentiment.iloc[0])\n",
        "\n",
        "eli5.show_prediction(clf, X_test.text.iloc[0], vec=vec,\n",
        "                     target_names=X_test.sentiment)  "
      ],
      "execution_count": null,
      "outputs": []
    },
    {
      "cell_type": "code",
      "metadata": {
        "id": "xwG79chnSwhc"
      },
      "source": [
        "# from sklearn.feature_extraction.text import TfidfVectorizer\n",
        "\n",
        "# vec = TfidfVectorizer()\n",
        "# clf = LogisticRegressionCV()\n",
        "# pipe = make_pipeline(vec, clf)\n",
        "# pipe.fit(X_train.text, X_train.sentiment)\n",
        "\n",
        "# print_report(pipe)"
      ],
      "execution_count": null,
      "outputs": []
    },
    {
      "cell_type": "code",
      "metadata": {
        "id": "IA2zBZ4FLzxI",
        "colab": {
          "base_uri": "https://localhost:8080/",
          "height": 118
        },
        "outputId": "94045d24-a4e5-4fda-af06-af3ee670ac2b"
      },
      "source": [
        "# https://datascience.stackexchange.com/questions/16342/unbalanced-multiclass-data-with-xgboost"
      ],
      "execution_count": null,
      "outputs": [
        {
          "output_type": "execute_result",
          "data": {
            "text/plain": [
              "XGBClassifier(base_score=0.5, booster='gbtree', colsample_bylevel=1,\n",
              "              colsample_bytree=1, gamma=0, learning_rate=0.1, max_delta_step=0,\n",
              "              max_depth=3, min_child_weight=1, missing=None, n_estimators=100,\n",
              "              n_jobs=1, nthread=None, objective='binary:logistic',\n",
              "              random_state=0, reg_alpha=0, reg_lambda=1, scale_pos_weight=1,\n",
              "              seed=None, silent=True, subsample=1)"
            ]
          },
          "metadata": {
            "tags": []
          },
          "execution_count": 9
        }
      ]
    },
    {
      "cell_type": "code",
      "metadata": {
        "id": "6px-GKM1U7eE",
        "colab": {
          "base_uri": "https://localhost:8080/",
          "height": 370
        },
        "outputId": "49e65df0-e1ed-46b3-a371-80e6a3357313"
      },
      "source": [
        "# PCA, ngram\n",
        "vec = TfidfVectorizer(stop_words = \"english\", analyzer = \"word\", ngram_range = (1, 3))\n",
        "clf = xgb.XGBClassifier(learning_rate=1, max_depth = 7, n_estimators = 100)\n",
        "pipe = make_pipeline(vec, clf)\n",
        "pipe.fit(X_train.text, X_train.sentiment)\n",
        "\n",
        "#print_report(pipe)"
      ],
      "execution_count": null,
      "outputs": [
        {
          "output_type": "execute_result",
          "data": {
            "text/plain": [
              "Pipeline(memory=None,\n",
              "         steps=[('tfidfvectorizer',\n",
              "                 TfidfVectorizer(analyzer='word', binary=False,\n",
              "                                 decode_error='strict',\n",
              "                                 dtype=<class 'numpy.float64'>,\n",
              "                                 encoding='utf-8', input='content',\n",
              "                                 lowercase=True, max_df=1.0, max_features=None,\n",
              "                                 min_df=1, ngram_range=(1, 3), norm='l2',\n",
              "                                 preprocessor=None, smooth_idf=True,\n",
              "                                 stop_words='english', strip_accents=None,\n",
              "                                 sublinear_tf=False,...\n",
              "                ('xgbclassifier',\n",
              "                 XGBClassifier(base_score=0.5, booster='gbtree',\n",
              "                               colsample_bylevel=1, colsample_bytree=1, gamma=0,\n",
              "                               learning_rate=1, max_delta_step=0, max_depth=7,\n",
              "                               min_child_weight=1, missing=None,\n",
              "                               n_estimators=80, n_jobs=1, nthread=None,\n",
              "                               objective='multi:softprob', random_state=0,\n",
              "                               reg_alpha=0, reg_lambda=1, scale_pos_weight=1,\n",
              "                               seed=None, silent=True, subsample=1))],\n",
              "         verbose=False)"
            ]
          },
          "metadata": {
            "tags": []
          },
          "execution_count": 87
        }
      ]
    },
    {
      "cell_type": "code",
      "metadata": {
        "id": "cyQZHnYtMsQT",
        "colab": {
          "base_uri": "https://localhost:8080/",
          "height": 67
        },
        "outputId": "b873fa7e-e50b-4243-e733-ee552476b1bb"
      },
      "source": [
        "confusion_matrix(X_train.sentiment, X_train.sentiment) #0, 1, 2 <- Positive, Negative and Neutral"
      ],
      "execution_count": null,
      "outputs": [
        {
          "output_type": "execute_result",
          "data": {
            "text/plain": [
              "array([[ 484,    0,    0],\n",
              "       [   0,  611,    0],\n",
              "       [   0,    0, 2864]])"
            ]
          },
          "metadata": {
            "tags": []
          },
          "execution_count": 82
        }
      ]
    },
    {
      "cell_type": "code",
      "metadata": {
        "id": "A2jEr0M9MRB0",
        "colab": {
          "base_uri": "https://localhost:8080/",
          "height": 67
        },
        "outputId": "d08446a6-dc1d-447b-dcd7-8ef81fbea8a3"
      },
      "source": [
        "confusion_matrix(X_train.sentiment, pipe.predict(X_train.text))"
      ],
      "execution_count": null,
      "outputs": [
        {
          "output_type": "execute_result",
          "data": {
            "text/plain": [
              "array([[ 484,    0,    0],\n",
              "       [   0,  611,    0],\n",
              "       [   0,    0, 2864]])"
            ]
          },
          "metadata": {
            "tags": []
          },
          "execution_count": 88
        }
      ]
    },
    {
      "cell_type": "code",
      "metadata": {
        "id": "nmLj65qkMCIi",
        "colab": {
          "base_uri": "https://localhost:8080/",
          "height": 67
        },
        "outputId": "e2570962-d559-4de0-ee1c-7640d1a8161a"
      },
      "source": [
        "confusion_matrix(X_test.sentiment, pipe.predict(X_test.text))"
      ],
      "execution_count": null,
      "outputs": [
        {
          "output_type": "execute_result",
          "data": {
            "text/plain": [
              "array([[ 32,  11,  90],\n",
              "       [ 25,  64, 137],\n",
              "       [ 86,  69, 806]])"
            ]
          },
          "metadata": {
            "tags": []
          },
          "execution_count": 89
        }
      ]
    },
    {
      "cell_type": "code",
      "metadata": {
        "id": "nMYg2Z_xM34X",
        "colab": {
          "base_uri": "https://localhost:8080/",
          "height": 34
        },
        "outputId": "81dc5c3b-437f-4129-cde1-49564b3ad7fe"
      },
      "source": [
        "# 0.4639868178262077\n",
        "f1_score(X_test.sentiment, pipe.predict(X_test.text), average = \"macro\")"
      ],
      "execution_count": null,
      "outputs": [
        {
          "output_type": "execute_result",
          "data": {
            "text/plain": [
              "0.46208509324814756"
            ]
          },
          "metadata": {
            "tags": []
          },
          "execution_count": 90
        }
      ]
    },
    {
      "cell_type": "code",
      "metadata": {
        "id": "anpRtuMBWadK"
      },
      "source": [
        "sub_data_og.assign( sentiment = pipe.predict(sub_data_og.text) )[[\"unique_hash\", \"sentiment\"]].to_csv(\"xgb05.csv\", index = False)"
      ],
      "execution_count": null,
      "outputs": []
    },
    {
      "cell_type": "code",
      "metadata": {
        "id": "1moJUNjzjr4l"
      },
      "source": [
        ""
      ],
      "execution_count": null,
      "outputs": []
    },
    {
      "cell_type": "code",
      "metadata": {
        "id": "ToW5zQt_iOsN"
      },
      "source": [
        "# Neural Network, RNN, SVM"
      ],
      "execution_count": null,
      "outputs": []
    },
    {
      "cell_type": "markdown",
      "metadata": {
        "id": "IW29Sc0R0LFQ"
      },
      "source": [
        "#### SHAP"
      ]
    },
    {
      "cell_type": "code",
      "metadata": {
        "id": "Ot0Fme0_0LFR"
      },
      "source": [
        "explainer = shap.LinearExplainer(pipe, X_train, feature_dependence=\"independent\")\n",
        "shap_values = explainer.shap_values(X_test)\n",
        "X_test_array = X_test.toarray() # we need to pass a dense version for the plotting functions"
      ],
      "execution_count": null,
      "outputs": []
    },
    {
      "cell_type": "code",
      "metadata": {
        "id": "_xKRmnHkd_BR"
      },
      "source": [
        "shap.summary_plot(shap_values, X_test_array, feature_names=vectorizer.get_feature_names())"
      ],
      "execution_count": null,
      "outputs": []
    },
    {
      "cell_type": "code",
      "metadata": {
        "id": "VTl9JO8eeCT4"
      },
      "source": [
        "ind = 0\n",
        "shap.force_plot(\n",
        "    explainer.expected_value, shap_values[ind,:], X_test_array[ind,:],\n",
        "    feature_names=vectorizer.get_feature_names()\n",
        ")"
      ],
      "execution_count": null,
      "outputs": []
    },
    {
      "cell_type": "markdown",
      "metadata": {
        "id": "yyUOr-dt0YkB"
      },
      "source": [
        "#### Hyperparamter Tuning"
      ]
    },
    {
      "cell_type": "code",
      "metadata": {
        "id": "8jP8Ft880YkC"
      },
      "source": [
        ""
      ],
      "execution_count": null,
      "outputs": []
    },
    {
      "cell_type": "markdown",
      "metadata": {
        "id": "0Q1tsQyYzTYS"
      },
      "source": [
        "## Stacking"
      ]
    },
    {
      "cell_type": "code",
      "metadata": {
        "id": "p_XTtKjLzTMB"
      },
      "source": [
        "#mlextend"
      ],
      "execution_count": null,
      "outputs": []
    }
  ]
}