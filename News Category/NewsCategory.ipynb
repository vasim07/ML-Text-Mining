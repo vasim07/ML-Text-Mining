{
  "nbformat": 4,
  "nbformat_minor": 0,
  "metadata": {
    "colab": {
      "name": "Copy of 1 Simple Template.ipynb",
      "provenance": [],
      "collapsed_sections": [
        "K-6dPY3MkPmu",
        "LIr82FI6kylK",
        "-8RfdmJcvA5l",
        "1CwMozOik13K",
        "oWDE2fUvk4Gi",
        "a2LwraaKk-f2",
        "TUu75iqsy2VW",
        "wMG4MTEvza_Z",
        "tcqsa8qGz-HH",
        "zxBRjn_R1tnL",
        "sf0xtdx_0OM8",
        "rU9QzdS4Qzgi",
        "pgavaNvY0IZm",
        "nTyrMKfY0VG8",
        "cVcYEsZhy_si",
        "oQWOgbKL0Gji",
        "pLT0C72m0Vjh",
        "6sN6540ezFEh",
        "FiK9TDZ80JTa",
        "0bUKbEY00WjY",
        "W4S_DeexzHOp",
        "-gk4sQqE0J4Q",
        "zAxVM-R40XKX",
        "pvtU9jGszJGQ",
        "GrzRndbU0LVT",
        "AzzWA0wb0Xt2",
        "EZEQP33kzN7Y",
        "IW29Sc0R0LFQ",
        "yyUOr-dt0YkB",
        "0Q1tsQyYzTYS"
      ]
    },
    "kernelspec": {
      "name": "python3",
      "display_name": "Python 3"
    }
  },
  "cells": [
    {
      "cell_type": "markdown",
      "metadata": {
        "id": "W89fvO2V2Bly"
      },
      "source": [
        "https://www.machinehack.com/course/predict-the-news-category-hackathon/\n",
        "\n",
        "https://www.machinehack.com/assignment/predict-the-news-category-hackathon/"
      ]
    },
    {
      "cell_type": "markdown",
      "metadata": {
        "id": "K-6dPY3MkPmu"
      },
      "source": [
        "## Initial Setup"
      ]
    },
    {
      "cell_type": "code",
      "metadata": {
        "id": "GveHu4qrkDi6"
      },
      "source": [
        "%%capture\n",
        "#%%script false\n",
        "!pip install shap==0.23.0\n",
        "!pip install xgboost==0.82\n",
        "!pip install catboost\n",
        "!pip install lightgbm==2.2.4\n",
        "# !pip install tensorboardcolab\n",
        "!pip install seaborn==0.9.0\n",
        "!pip install pandas==0.24.2\n",
        "!pip install numpy==1.16.2\n",
        "# !pip install scikit-optimize==0.6\n",
        "\n",
        "#Restart Runtime"
      ],
      "execution_count": null,
      "outputs": []
    },
    {
      "cell_type": "markdown",
      "metadata": {
        "id": "FKenLVA3kTTb"
      },
      "source": [
        "## Data"
      ]
    },
    {
      "cell_type": "code",
      "metadata": {
        "id": "iMu0XDeTkS0F"
      },
      "source": [
        "import pandas as pd\n",
        "import numpy as np\n",
        "import matplotlib.pyplot as plt\n",
        "import seaborn as sns\n",
        "%matplotlib inline\n",
        "plt.rc('figure', figsize=(20.0, 6.0))\n",
        "\n",
        "import shap\n",
        "from tqdm import tqdm_notebook as tqdm\n",
        "\n",
        "from sklearn.model_selection import train_test_split\n",
        "#from sklearn.model_selection import StratifiedShuffleSplit #, RepeatedKFold, StratifiedKFold, RepeatedStratifiedKFold\n",
        "\n",
        "import xgboost as xgb\n",
        "import lightgbm as lgb\n",
        "import catboost as cat\n",
        "\n",
        "#import sklearn.svm as svm\n",
        "#import sklearn.neighbors as knn\n",
        "\n",
        "\n",
        "from sklearn.model_selection import cross_val_score\n",
        "from sklearn.model_selection import GridSearchCV\n",
        "from sklearn.metrics import classification_report, confusion_matrix, roc_curve, roc_auc_score, auc, accuracy_score\n",
        "from sklearn.metrics import mean_squared_error #, mean_squared_log_error"
      ],
      "execution_count": null,
      "outputs": []
    },
    {
      "cell_type": "code",
      "metadata": {
        "id": "Bl44tmIbRZ7K"
      },
      "source": [
        "np.array([[\"TN\", \"FP\"],[\"FN\", \"TP\"]])"
      ],
      "execution_count": null,
      "outputs": []
    },
    {
      "cell_type": "code",
      "metadata": {
        "id": "psNxenViRs4F"
      },
      "source": [
        "# Change id only\n",
        "train_data_og = pd.read_excel(\"https://drive.google.com/uc?export=download&id=1eUOYLErl_EIbH2MNuz9kfKFsqROol_fx\")\n",
        "test_data_og = pd.read_excel(\"https://drive.google.com/uc?export=download&id=18y7LIzBeMUni8oC7hW1Pros9vDfJsWlD\")"
      ],
      "execution_count": null,
      "outputs": []
    },
    {
      "cell_type": "markdown",
      "metadata": {
        "id": "utAyB_I4kvlr"
      },
      "source": [
        "### Manipulation\n",
        "\n",
        "Mean Encoding.  \n",
        "Divide and Multiply columns.  \n",
        "\n",
        "\n",
        "Time Series  \n",
        "Date parts  \n",
        "Lag values  \n",
        "Difference between dates "
      ]
    },
    {
      "cell_type": "code",
      "metadata": {
        "id": "e5r2F1xPkuKs",
        "colab": {
          "base_uri": "https://localhost:8080/",
          "height": 204
        },
        "outputId": "8d32d1cd-d946-4a68-dbbf-81e79547e22d"
      },
      "source": [
        "train_data_og.head()"
      ],
      "execution_count": null,
      "outputs": [
        {
          "output_type": "execute_result",
          "data": {
            "text/html": [
              "<div>\n",
              "<style scoped>\n",
              "    .dataframe tbody tr th:only-of-type {\n",
              "        vertical-align: middle;\n",
              "    }\n",
              "\n",
              "    .dataframe tbody tr th {\n",
              "        vertical-align: top;\n",
              "    }\n",
              "\n",
              "    .dataframe thead th {\n",
              "        text-align: right;\n",
              "    }\n",
              "</style>\n",
              "<table border=\"1\" class=\"dataframe\">\n",
              "  <thead>\n",
              "    <tr style=\"text-align: right;\">\n",
              "      <th></th>\n",
              "      <th>STORY</th>\n",
              "      <th>SECTION</th>\n",
              "    </tr>\n",
              "  </thead>\n",
              "  <tbody>\n",
              "    <tr>\n",
              "      <th>0</th>\n",
              "      <td>But the most painful was the huge reversal in ...</td>\n",
              "      <td>3</td>\n",
              "    </tr>\n",
              "    <tr>\n",
              "      <th>1</th>\n",
              "      <td>How formidable is the opposition alliance amon...</td>\n",
              "      <td>0</td>\n",
              "    </tr>\n",
              "    <tr>\n",
              "      <th>2</th>\n",
              "      <td>Most Asian currencies were trading lower today...</td>\n",
              "      <td>3</td>\n",
              "    </tr>\n",
              "    <tr>\n",
              "      <th>3</th>\n",
              "      <td>If you want to answer any question, click on ‘...</td>\n",
              "      <td>1</td>\n",
              "    </tr>\n",
              "    <tr>\n",
              "      <th>4</th>\n",
              "      <td>In global markets, gold prices edged up today ...</td>\n",
              "      <td>3</td>\n",
              "    </tr>\n",
              "  </tbody>\n",
              "</table>\n",
              "</div>"
            ],
            "text/plain": [
              "                                               STORY  SECTION\n",
              "0  But the most painful was the huge reversal in ...        3\n",
              "1  How formidable is the opposition alliance amon...        0\n",
              "2  Most Asian currencies were trading lower today...        3\n",
              "3  If you want to answer any question, click on ‘...        1\n",
              "4  In global markets, gold prices edged up today ...        3"
            ]
          },
          "metadata": {
            "tags": []
          },
          "execution_count": 3
        }
      ]
    },
    {
      "cell_type": "markdown",
      "metadata": {
        "id": "LIr82FI6kylK"
      },
      "source": [
        "## EDA\n",
        "\n",
        "seaborn or pandas plot as required.  \n",
        "verify labels truth - a new column called sample_weights may be helpful for noisy data."
      ]
    },
    {
      "cell_type": "markdown",
      "metadata": {
        "id": "-8RfdmJcvA5l"
      },
      "source": [
        "### Distribution"
      ]
    },
    {
      "cell_type": "code",
      "metadata": {
        "id": "9oGBGthMvBgu"
      },
      "source": [
        "plt.subplot(1,2,1)\n",
        "sns.countplot(train_data.XXX, order = train_data.xxx.values_count().index )\n",
        "plt.subplot(1,2,2)\n",
        "sns.countplot(sub_data.XXX, order = [1,2,3,4])\n",
        "plt.show()"
      ],
      "execution_count": null,
      "outputs": []
    },
    {
      "cell_type": "markdown",
      "metadata": {
        "id": "1CwMozOik13K"
      },
      "source": [
        "### Univariate\n",
        "\n",
        "Distributions, Outliers"
      ]
    },
    {
      "cell_type": "code",
      "metadata": {
        "id": "LBwNYdi6k3uy"
      },
      "source": [
        "plt.subplot(1,2,1)\n",
        "sns.countplot(train_data.XXX, order = train_data.xxx.values_count().index )\n",
        "plt.subplot(1,2,2)\n",
        "sns.countplot(sub_data.XXX, order = [1,2,3,4])\n",
        "plt.show()"
      ],
      "execution_count": null,
      "outputs": []
    },
    {
      "cell_type": "markdown",
      "metadata": {
        "id": "oWDE2fUvk4Gi"
      },
      "source": [
        "### Bivariate\n",
        "\n",
        "Comparision, corelation"
      ]
    },
    {
      "cell_type": "code",
      "metadata": {
        "id": "ZRRAHHJ9k9uZ"
      },
      "source": [
        "plt.subplot(1,2,1)\n",
        "sns.countplot(train_data.XXX, order = train_data.xxx.values_count().index )\n",
        "plt.subplot(1,2,2)\n",
        "sns.countplot(sub_data.XXX, order = [1,2,3,4])\n",
        "plt.show()"
      ],
      "execution_count": null,
      "outputs": []
    },
    {
      "cell_type": "markdown",
      "metadata": {
        "id": "a2LwraaKk-f2"
      },
      "source": [
        "### With sub_data\n",
        "\n",
        "Submit pattern, cv on, splitted on"
      ]
    },
    {
      "cell_type": "code",
      "metadata": {
        "id": "PHvJLxC3lDC-"
      },
      "source": [
        ""
      ],
      "execution_count": null,
      "outputs": []
    },
    {
      "cell_type": "markdown",
      "metadata": {
        "id": "POPDGccol9av"
      },
      "source": [
        "## Data Validation\n",
        "\n",
        "Replace xxx with proper data  \n",
        "\n",
        "1) Random split\n",
        "2) Catogorical split\n",
        "3) Time based split"
      ]
    },
    {
      "cell_type": "code",
      "metadata": {
        "id": "PjZWAWq3mA6_"
      },
      "source": [
        "vectorizer = TfidfVectorizer()\n",
        "\n",
        "X = vectorizer.fit_transform(train_data_og[\"STORY\"])\n",
        "y = train_data_og[\"SECTION\"]\n",
        "\n",
        "X_train, X_test, y_train, y_test = train_test_split(X, y, test_size = 0.25, train_size = 0.75, stratify = train_data_og[\"SECTION\"])"
      ],
      "execution_count": null,
      "outputs": []
    },
    {
      "cell_type": "code",
      "metadata": {
        "id": "oWov4F1X4fS4",
        "colab": {
          "base_uri": "https://localhost:8080/",
          "height": 51
        },
        "outputId": "16ceb1d0-1507-4e59-b085-6c63a21d5f94"
      },
      "source": [
        "print(\"Train set rows %s, cols %s and y is %s\" % (X_train.shape[0], X_train.shape[1], y_train.shape[0]))\n",
        "print(\"Test set rows %s, cols %s and y is %s\" % (X_test.shape[0], X_test.shape[1], y_test.shape[0]))\n",
        "#print(\"Submission set rows %s, cols %s and y is to be predicted\" % (X_sub.shape[0], X_sub.shape[1]))"
      ],
      "execution_count": null,
      "outputs": [
        {
          "output_type": "stream",
          "text": [
            "Train set rows 5721, cols 1 and y is 5721\n",
            "Test set rows 1907, cols 1 and y is 1907\n"
          ],
          "name": "stdout"
        }
      ]
    },
    {
      "cell_type": "code",
      "metadata": {
        "id": "E4srHMrg256_"
      },
      "source": [
        "# # Run only if required\n",
        "\n",
        "# for x in set(X_train.columns) - set(X_sub.columns) :\n",
        "#     X_sub[x] = 0\n",
        "\n",
        "# X_sub = X_sub[X.columns]\n",
        "    \n",
        "# print(\"Submission set rows %s, cols %s and y is to be predicted\" % (X_sub.shape[0], X_sub.shape[1]))"
      ],
      "execution_count": null,
      "outputs": []
    },
    {
      "cell_type": "markdown",
      "metadata": {
        "id": "TUu75iqsy2VW"
      },
      "source": [
        "### Validataion EDA"
      ]
    },
    {
      "cell_type": "code",
      "metadata": {
        "id": "hdCMjXFJy1wc"
      },
      "source": [
        ""
      ],
      "execution_count": null,
      "outputs": []
    },
    {
      "cell_type": "markdown",
      "metadata": {
        "id": "QOYLC_QQyISa"
      },
      "source": [
        "## Modeling\n",
        "\n",
        "For Regression verify distribution.  \n",
        "For Classification verify confusion matrix.  \n",
        "Use 10 fold cross validation to verify final model.  "
      ]
    },
    {
      "cell_type": "markdown",
      "metadata": {
        "id": "wMG4MTEvza_Z"
      },
      "source": [
        "### Submission Part\n",
        "\n",
        "Ensure that model is trained on whole set"
      ]
    },
    {
      "cell_type": "code",
      "metadata": {
        "id": "fh274m4HzbfZ"
      },
      "source": [
        ""
      ],
      "execution_count": null,
      "outputs": []
    },
    {
      "cell_type": "markdown",
      "metadata": {
        "id": "7bUgq588y6cz"
      },
      "source": [
        "### XGBoost\n",
        "\n",
        "Monitor metric performance on both train and test.  "
      ]
    },
    {
      "cell_type": "code",
      "metadata": {
        "id": "vcoZP-iEoUlU"
      },
      "source": [
        "from sklearn.feature_extraction.text import TfidfVectorizer"
      ],
      "execution_count": null,
      "outputs": []
    },
    {
      "cell_type": "code",
      "metadata": {
        "id": "WBU5mVVwo2E3"
      },
      "source": [
        "vectorizer = TfidfVectorizer()\n",
        "\n",
        "X = vectorizer.fit_transform(train_data_og[\"STORY\"])\n",
        "y = train_data_og[\"SECTION\"]\n",
        "\n",
        "X_train, X_test, y_train, y_test = train_test_split(X, y, test_size = 0.25, train_size = 0.75, stratify = train_data_og[\"SECTION\"])"
      ],
      "execution_count": null,
      "outputs": []
    },
    {
      "cell_type": "code",
      "metadata": {
        "id": "Dey0Yx9Dy8fK",
        "colab": {
          "base_uri": "https://localhost:8080/",
          "height": 238
        },
        "outputId": "eb6b2bf4-178d-4bf6-d027-0ba806d2e966"
      },
      "source": [
        "\n",
        "xgb_model = xgb.XGBClassifier(learning_rate=0.01, n_estimators = 1000)\n",
        "xgb_model.fit(X_train, y_train, eval_set = [(X_train, y_train), (X_test, y_test)], verbose = 1000, early_stopping_rounds=10)\n",
        "\n",
        "#joblib.dump(xgb_model, \"drive/My Drive/PyColab Work/xxx/xgb_model.sav\")\n",
        "#confusion_matrix(y_train, xgb_model.predict(X_train))"
      ],
      "execution_count": null,
      "outputs": [
        {
          "output_type": "stream",
          "text": [
            "[0]\tvalidation_0-merror:0.2767\tvalidation_1-merror:0.291033\n",
            "Multiple eval metrics have been passed: 'validation_1-merror' will be used for early stopping.\n",
            "\n",
            "Will train until validation_1-merror hasn't improved in 10 rounds.\n",
            "Stopping. Best iteration:\n",
            "[48]\tvalidation_0-merror:0.189652\tvalidation_1-merror:0.217095\n",
            "\n"
          ],
          "name": "stdout"
        },
        {
          "output_type": "execute_result",
          "data": {
            "text/plain": [
              "XGBClassifier(base_score=0.5, booster='gbtree', colsample_bylevel=1,\n",
              "              colsample_bytree=1, gamma=0, learning_rate=0.01, max_delta_step=0,\n",
              "              max_depth=3, min_child_weight=1, missing=None, n_estimators=1000,\n",
              "              n_jobs=1, nthread=None, objective='multi:softprob',\n",
              "              random_state=0, reg_alpha=0, reg_lambda=1, scale_pos_weight=1,\n",
              "              seed=None, silent=True, subsample=1)"
            ]
          },
          "metadata": {
            "tags": []
          },
          "execution_count": 19
        }
      ]
    },
    {
      "cell_type": "code",
      "metadata": {
        "id": "jZHnF-1wqcRB",
        "colab": {
          "base_uri": "https://localhost:8080/",
          "height": 102
        },
        "outputId": "f2b3a8dd-6b9d-48a2-a7b6-dddbbf0fac35"
      },
      "source": [
        "print(accuracy_score(y_train, xgb_model.predict(X_train)))\n",
        "confusion_matrix(y_train, xgb_model.predict(X_train))"
      ],
      "execution_count": null,
      "outputs": [
        {
          "output_type": "stream",
          "text": [
            "0.8103478412864884\n"
          ],
          "name": "stdout"
        },
        {
          "output_type": "execute_result",
          "data": {
            "text/plain": [
              "array([[1076,  131,   49,    8],\n",
              "       [  19, 1930,   98,   32],\n",
              "       [  25,  357, 1059,    2],\n",
              "       [  24,  298,   42,  571]])"
            ]
          },
          "metadata": {
            "tags": []
          },
          "execution_count": 23
        }
      ]
    },
    {
      "cell_type": "code",
      "metadata": {
        "id": "9v7Mb6D7qj7p",
        "colab": {
          "base_uri": "https://localhost:8080/",
          "height": 102
        },
        "outputId": "7336ce43-9602-4232-931f-23671707b4d6"
      },
      "source": [
        "print(accuracy_score(y_test, xgb_model.predict(X_test)))\n",
        "confusion_matrix(y_test, xgb_model.predict(X_test))"
      ],
      "execution_count": null,
      "outputs": [
        {
          "output_type": "stream",
          "text": [
            "0.7829050865233351\n"
          ],
          "name": "stdout"
        },
        {
          "output_type": "execute_result",
          "data": {
            "text/plain": [
              "array([[343,  54,  25,   0],\n",
              "       [  4, 629,  40,  20],\n",
              "       [  6, 134, 341,   0],\n",
              "       [  4, 116,  11, 180]])"
            ]
          },
          "metadata": {
            "tags": []
          },
          "execution_count": 35
        }
      ]
    },
    {
      "cell_type": "code",
      "metadata": {
        "id": "berHY8Ws2q5w"
      },
      "source": [
        "cross_val_score(xgb_model, X_train, y_train, cv = 5, groups = groups) # Add Fuel Type as well"
      ],
      "execution_count": null,
      "outputs": []
    },
    {
      "cell_type": "code",
      "metadata": {
        "id": "6j2M1Nh008Ei"
      },
      "source": [
        "plt.figure(figsize = (20, 5))\n",
        "sns.barplot(\"feature\", \"imp\", data = pd.DataFrame( {'feature' : X_train.columns, 'imp' : xgb_model.feature_importances_ }).sort_values(\"imp\", ascending = False) )\n",
        "plt.xticks(rotation = 90)\n",
        "plt.show()"
      ],
      "execution_count": null,
      "outputs": []
    },
    {
      "cell_type": "markdown",
      "metadata": {
        "id": "tcqsa8qGz-HH"
      },
      "source": [
        "#### SHAP"
      ]
    },
    {
      "cell_type": "code",
      "metadata": {
        "id": "lkAGzGL6z9vF"
      },
      "source": [
        "explainer = shap.TreeExplainer(xgb_model)\n",
        "\n",
        "nsize = 1000\n",
        "\n",
        "shap_values = explainer.shap_values(X_train.iloc[0:nsize,:])\n",
        "shap.summary_plot(shap_values, X_train.iloc[0:nsize,:])\n",
        "\n",
        "plt.show()"
      ],
      "execution_count": null,
      "outputs": []
    },
    {
      "cell_type": "code",
      "metadata": {
        "id": "Gypbmna9uTil"
      },
      "source": [
        "shap_values = explainer.shap_values(X_test.iloc[0:nsize,:])\n",
        "b = shap.summary_plot(shap_values, X_test.iloc[0:nsize,:])"
      ],
      "execution_count": null,
      "outputs": []
    },
    {
      "cell_type": "markdown",
      "metadata": {
        "id": "zxBRjn_R1tnL"
      },
      "source": [
        "#### Hyperparameter Tuning\n",
        "\n",
        "Draw appropriate graph to understand impact of two hyperparameters.  \n",
        "eg: rounds to maxdepth can give an idea where it overfits."
      ]
    },
    {
      "cell_type": "markdown",
      "metadata": {
        "id": "sf0xtdx_0OM8"
      },
      "source": [
        "##### GridSearchCV"
      ]
    },
    {
      "cell_type": "code",
      "metadata": {
        "id": "mUf0tNJs0N86"
      },
      "source": [
        "cv= RepeatedKFold(2, 2)\n",
        "xgb_engine = xgb.XGBRegressor() #n_estimator not used\n",
        "xgb_params = {'booster' : ['gbtree'],\n",
        "              'max_depth' : [3, 4], \n",
        "              'gamma' : [0], \n",
        "              'learning_rate' : [0.3], \n",
        "              \"n_estimators\" : [100000], \n",
        "              'min_child_weight' : [5, 10], \n",
        "              'subsample' : [1], \n",
        "              'colsample_bytree' : [0.7, 1], \n",
        "              'colsample_bylevel' : [1], \n",
        "              'colsample_bynode' : [1], \n",
        "              'reg_lambda' : [0], \n",
        "              'reg_alpha' : [0]}\n",
        "\n",
        "xgb_grid = GridSearchCV(xgb_engine, xgb_params, cv = cv, n_jobs = 4, verbose = 0, return_train_score  = True)\n",
        "xgb_grid.fit(X_train, y_train, eval_set = [(X_train, y_train)], early_stopping_rounds=10, verbose = 1000)\n",
        "\n",
        "#joblib.dump(xgb_grid, \"F:/Vasim/Python Stuff/Flight/gridxgboost.sav\")\n",
        "\n",
        "#print( np.sqrt( -cross_val_score(xgb_grid.best_estimator_, X_train, y_train, cv = cv, scoring = \"neg_mean_squared_error\") ) )\n",
        "#print( np.sqrt( mean_squared_error(y_test, xgb_grid.predict(X_test)) ) )"
      ],
      "execution_count": null,
      "outputs": []
    },
    {
      "cell_type": "markdown",
      "metadata": {
        "id": "rU9QzdS4Qzgi"
      },
      "source": [
        "##### Skopt"
      ]
    },
    {
      "cell_type": "code",
      "metadata": {
        "id": "XxdS8V-6QyyW"
      },
      "source": [
        "from skopt.space import Integer, Categorical, Real\n",
        "from skopt.utils import use_named_args\n",
        "from skopt import gp_minimize\n",
        "\n",
        "# set up hyperparameter space\n",
        "space = [Integer(3, 50, name='max_depth'),\n",
        "         Integer(8, 200, name='n_estimators'),\n",
        "         Integer(3, 50, name='min_child_weight'),\n",
        "         Real(0.001, 1.0, name='learning_rate')]\n",
        "\n",
        "regressor = xgb.XGBRegressor()\n",
        "\n",
        "from sklearn.model_selection import cross_val_score\n",
        "\n",
        "@use_named_args(space)\n",
        "def objective(**params):\n",
        "    regressor.set_params(**params)\n",
        "    return -np.mean(cross_val_score(regressor, X_train, y_train, cv=5, n_jobs=1, scoring='neg_mean_squared_error'))"
      ],
      "execution_count": null,
      "outputs": []
    },
    {
      "cell_type": "code",
      "metadata": {
        "id": "ZI0edKA0Q2v9"
      },
      "source": [
        "reg_gp = gp_minimize(objective, space, verbose=False)\n",
        "\n",
        "print('best score: {}'.format(reg_gp.fun))\n",
        "\n",
        "print('best params:')\n",
        "print('        max_depth: {}'.format(reg_gp.x[0]))\n",
        "print('     n_estimators: {}'.format(reg_gp.x[1]))\n",
        "print(' min_child_weight: {}'.format(reg_gp.x[2]))\n",
        "print('    learning_rate: {}'.format(reg_gp.x[3]))"
      ],
      "execution_count": null,
      "outputs": []
    },
    {
      "cell_type": "code",
      "metadata": {
        "id": "F-JY6U5rQ4jX"
      },
      "source": [
        "import skopt.plots\n",
        "skopt.plots.plot_convergence(reg_gp)"
      ],
      "execution_count": null,
      "outputs": []
    },
    {
      "cell_type": "code",
      "metadata": {
        "id": "oDO1SkeOQ6Cc"
      },
      "source": [
        "skopt.plots.plot_evaluations(reg_gp, bins = 20)\n",
        "plt.show()"
      ],
      "execution_count": null,
      "outputs": []
    },
    {
      "cell_type": "code",
      "metadata": {
        "id": "U4KPJyRrQ8TC"
      },
      "source": [
        "skopt.plots.plot_objective(reg_gp)\n",
        "plt.show()"
      ],
      "execution_count": null,
      "outputs": []
    },
    {
      "cell_type": "markdown",
      "metadata": {
        "id": "XNj62WgORNi5"
      },
      "source": [
        "##### Hyperopt"
      ]
    },
    {
      "cell_type": "code",
      "metadata": {
        "id": "kFsi83NARPw4"
      },
      "source": [
        ""
      ],
      "execution_count": null,
      "outputs": []
    },
    {
      "cell_type": "markdown",
      "metadata": {
        "id": "RARcaL1Iy88i"
      },
      "source": [
        "### LightGBM\n",
        "Inbuilt Categorical features"
      ]
    },
    {
      "cell_type": "code",
      "metadata": {
        "id": "7B1rRAyVy-_y",
        "colab": {
          "base_uri": "https://localhost:8080/",
          "height": 187
        },
        "outputId": "3b4f3dd2-508b-41bc-a54f-fa425a16b6f8"
      },
      "source": [
        "lgbm_model = lgb.LGBMClassifier(learning_rate=0.01, n_estimators=100000)\n",
        "lgbm_model.fit(X_train, y_train, eval_set = [(X_test, y_test)], early_stopping_rounds=100, verbose = 1000)"
      ],
      "execution_count": null,
      "outputs": [
        {
          "output_type": "stream",
          "text": [
            "Training until validation scores don't improve for 100 rounds.\n",
            "[1000]\tvalid_0's multi_logloss: 0.153806\n",
            "Early stopping, best iteration is:\n",
            "[1320]\tvalid_0's multi_logloss: 0.149629\n"
          ],
          "name": "stdout"
        },
        {
          "output_type": "execute_result",
          "data": {
            "text/plain": [
              "LGBMClassifier(boosting_type='gbdt', class_weight=None, colsample_bytree=1.0,\n",
              "               importance_type='split', learning_rate=0.01, max_depth=-1,\n",
              "               min_child_samples=20, min_child_weight=0.001, min_split_gain=0.0,\n",
              "               n_estimators=100000, n_jobs=-1, num_leaves=31, objective=None,\n",
              "               random_state=None, reg_alpha=0.0, reg_lambda=0.0, silent=True,\n",
              "               subsample=1.0, subsample_for_bin=200000, subsample_freq=0)"
            ]
          },
          "metadata": {
            "tags": []
          },
          "execution_count": 36
        }
      ]
    },
    {
      "cell_type": "code",
      "metadata": {
        "id": "GYPs3zKgrK_9",
        "colab": {
          "base_uri": "https://localhost:8080/",
          "height": 102
        },
        "outputId": "12bee464-66f2-44a3-dbc3-55639e87336e"
      },
      "source": [
        "print(accuracy_score(y_train, lgbm_model.predict(X_train)))\n",
        "confusion_matrix(y_train, lgbm_model.predict(X_train))"
      ],
      "execution_count": null,
      "outputs": [
        {
          "output_type": "stream",
          "text": [
            "0.9977276699877644\n"
          ],
          "name": "stdout"
        },
        {
          "output_type": "execute_result",
          "data": {
            "text/plain": [
              "array([[1259,    0,    0,    5],\n",
              "       [   0, 2071,    0,    8],\n",
              "       [   0,    0, 1443,    0],\n",
              "       [   0,    0,    0,  935]])"
            ]
          },
          "metadata": {
            "tags": []
          },
          "execution_count": 37
        }
      ]
    },
    {
      "cell_type": "code",
      "metadata": {
        "id": "EY2ETdcdrMYV",
        "colab": {
          "base_uri": "https://localhost:8080/",
          "height": 102
        },
        "outputId": "7c0f82c0-40f5-45c8-cedb-466c339c37b2"
      },
      "source": [
        "print(accuracy_score(y_test, lgbm_model.predict(X_test)))\n",
        "confusion_matrix(y_test, lgbm_model.predict(X_test))"
      ],
      "execution_count": null,
      "outputs": [
        {
          "output_type": "stream",
          "text": [
            "0.945464079706345\n"
          ],
          "name": "stdout"
        },
        {
          "output_type": "execute_result",
          "data": {
            "text/plain": [
              "array([[381,  17,  20,   4],\n",
              "       [  0, 660,  22,  11],\n",
              "       [  4,   9, 468,   0],\n",
              "       [  2,   9,   6, 294]])"
            ]
          },
          "metadata": {
            "tags": []
          },
          "execution_count": 38
        }
      ]
    },
    {
      "cell_type": "markdown",
      "metadata": {
        "id": "pgavaNvY0IZm"
      },
      "source": [
        "#### SHAP"
      ]
    },
    {
      "cell_type": "code",
      "metadata": {
        "id": "C7wBWbN90IZn"
      },
      "source": [
        "explainer = shap.TreeExplainer(lgbm_model)\n",
        "\n",
        "nsize = 1000\n",
        "\n",
        "shap_values = explainer.shap_values(X_train.iloc[0:nsize,:])\n",
        "shap.summary_plot(shap_values, X_train.iloc[0:nsize,:])\n",
        "\n",
        "plt.show()"
      ],
      "execution_count": null,
      "outputs": []
    },
    {
      "cell_type": "markdown",
      "metadata": {
        "id": "nTyrMKfY0VG8"
      },
      "source": [
        "#### Hyperparamter Tuning"
      ]
    },
    {
      "cell_type": "code",
      "metadata": {
        "id": "IfEqthrB0VG9"
      },
      "source": [
        "lgbm_engine = lgb.LGBMRegressor()\n",
        "lgbm_params = {'max_depth' : [17], 'learning_rate' : [0.05], 'n_estimators': [100000],  'min_child_samples' : [3], 'num_leaves' : [40], 'min_child_weight' : [0.001], \n",
        "               'min_split_gain' : [0], 'colsample_bytree' : [0.3], 'reg_alpha' : [0], 'reg_lamba' : [0], 'importance_type' : ['split'] }\n",
        "\n",
        "lgbm_grid = GridSearchCV(lgbm_engine, lgbm_params, cv = 4, n_jobs = 4, verbose = 0)\n",
        "lgbm_grid.fit(X_train, y_train, eval_set = [(X_test, y_test)], early_stopping_rounds=100, verbose = 1000)\n",
        "#print( np.sqrt( -cross_val_score(lgbm_grid.best_estimator_, X_train, y_train, cv = 5, scoring = \"neg_mean_squared_error\") ) )\n",
        "#print( np.sqrt( mean_squared_error(y_test, lgbm_grid.predict(X_test)) ) )"
      ],
      "execution_count": null,
      "outputs": []
    },
    {
      "cell_type": "markdown",
      "metadata": {
        "id": "cVcYEsZhy_si"
      },
      "source": [
        "### CatBoost\n",
        "\n",
        "Inbuilt Categorical features  \n",
        "\n",
        "The cat.cv - inbuilt cross validation gives cross validated result on each iterations.   \n",
        "The only hyperparameter we can select from in built cv is no of iteration.  \n",
        "Try sklearn cv type with for loop for cv score or skopt or hyperopt module.  "
      ]
    },
    {
      "cell_type": "code",
      "metadata": {
        "id": "8S5NYLszzAIS"
      },
      "source": [
        "from catboost import CatBoostRegressor, Pool, CatBoostClassifier\n",
        "#categorical_features_indices = np.where(cat_train.dtypes == 'object')[0]\n",
        "\n",
        "cat_model = CatBoostClassifier(iterations = 100000, learning_rate = 0.01)\n",
        "cat_model.fit(cat_train, y_train, eval_set = (cat_test, y_test), plot = True, verbose = 1000, early_stopping_rounds=100)\n",
        "\n",
        "#print( np.sqrt( -cross_val_score(cat_model, X_train, y_train, cv = 5, scoring = \"neg_mean_squared_error\", verbose = False) ) )\n",
        "#np.sqrt(mean_squared_error(y_test, cat_model.predict(X_test)))"
      ],
      "execution_count": null,
      "outputs": []
    },
    {
      "cell_type": "code",
      "metadata": {
        "id": "pcugRhf7rO4_"
      },
      "source": [
        "print(accuracy_score(y_train, cat_model.predict(X_train)))\n",
        "confusion_matrix(y_train, cat_model.predict(X_train))"
      ],
      "execution_count": null,
      "outputs": []
    },
    {
      "cell_type": "code",
      "metadata": {
        "id": "IS_22MsyrOwX"
      },
      "source": [
        "print(accuracy_score(y_test, cat_model.predict(X_test)))\n",
        "confusion_matrix(y_test, cat_model.predict(X_test))"
      ],
      "execution_count": null,
      "outputs": []
    },
    {
      "cell_type": "markdown",
      "metadata": {
        "id": "oQWOgbKL0Gji"
      },
      "source": [
        "#### SHAP"
      ]
    },
    {
      "cell_type": "code",
      "metadata": {
        "id": "TjAHY8u-0Gjj"
      },
      "source": [
        "explainer = shap.TreeExplainer(cat_model)\n",
        "\n",
        "nsize = 1000\n",
        "\n",
        "shap_values = explainer.shap_values(X_train.iloc[0:nsize,:])\n",
        "shap.summary_plot(shap_values, X_train.iloc[0:nsize,:])\n",
        "\n",
        "plt.show()"
      ],
      "execution_count": null,
      "outputs": []
    },
    {
      "cell_type": "markdown",
      "metadata": {
        "id": "pLT0C72m0Vjh"
      },
      "source": [
        "#### Hyperparamter Tuning"
      ]
    },
    {
      "cell_type": "code",
      "metadata": {
        "id": "9X3_BBk50Vji"
      },
      "source": [
        "cat_engine = CatBoostRegressor()\n",
        "cat_params = {'max_depth' : [4], 'learning_rate' : [0.1], 'iterations': [100000], 'colsample_bylevel' : [1]}\n",
        "    \n",
        "cat_grid = GridSearchCV(cat_engine, cat_params, cv = 4, n_jobs = 4, verbose = False)\n",
        "cat_grid.fit(cat_train, y_train, eval_set = (cat_val, y_val), cat_features = categorical_features_indices, plot = True, verbose = 1000, early_stopping_rounds=100)"
      ],
      "execution_count": null,
      "outputs": []
    },
    {
      "cell_type": "markdown",
      "metadata": {
        "id": "6sN6540ezFEh"
      },
      "source": [
        "### SVM\n",
        "\n",
        "Apply scaling"
      ]
    },
    {
      "cell_type": "code",
      "metadata": {
        "id": "8q_mgTlJzEqJ"
      },
      "source": [
        "#%%script false\n",
        "\n",
        "from sklearn.svm import SVR\n",
        "from sklearn.preprocessing import StandardScaler, MinMaxScaler\n",
        "\n",
        "#Scaling only on numeric data.\n",
        "svmpipe = Pipeline([ ( \"std\", StandardScaler() ), (\"mimax\", MinMaxScaler()) , ( \"svm\", SVR(gamma = 'scale', kernel = 'rbf', C = 1.5, epsilon = 0.1, max_iter=-1) ) ])\n",
        "svmpipe.fit(X_train, y_train)\n",
        "\n",
        "#np.sqrt( -cross_val_score(svmpipe, X_train.astype(float), y_train.astype(float), cv = 5, scoring = \"neg_mean_squared_error\") )\n",
        "np.sqrt( mean_squared_error(y_test, svmpipe.predict(X_test))) "
      ],
      "execution_count": null,
      "outputs": []
    },
    {
      "cell_type": "markdown",
      "metadata": {
        "id": "FiK9TDZ80JTa"
      },
      "source": [
        "#### SHAP"
      ]
    },
    {
      "cell_type": "code",
      "metadata": {
        "id": "1PEvvBai0JTb"
      },
      "source": [
        ""
      ],
      "execution_count": null,
      "outputs": []
    },
    {
      "cell_type": "markdown",
      "metadata": {
        "id": "0bUKbEY00WjY"
      },
      "source": [
        "#### Hyperparamter Tuning"
      ]
    },
    {
      "cell_type": "code",
      "metadata": {
        "id": "F-Otyq-80WjZ"
      },
      "source": [
        ""
      ],
      "execution_count": null,
      "outputs": []
    },
    {
      "cell_type": "markdown",
      "metadata": {
        "id": "W4S_DeexzHOp"
      },
      "source": [
        "### KNN\n",
        "\n",
        "Apply scaling"
      ]
    },
    {
      "cell_type": "code",
      "metadata": {
        "id": "EVi3EkpIzG7J"
      },
      "source": [
        "from sklearn.neighbors import KNeighborsRegressor\n",
        "from sklearn.preprocessing import StandardScaler, normalize, MinMaxScaler\n",
        "\n",
        "#Scaling on numeric data only\n",
        "neigh = KNeighborsRegressor(n_neighbors=5)\n",
        "knnpipe = Pipeline([ ( \"std\", StandardScaler() ), (\"minmax\", MinMaxScaler() ), ( \"knn\", neigh ) ])\n",
        "\n",
        "#scale data\n",
        "knnpipe.fit(X_train, y_train) \n",
        "print( np.sqrt( -cross_val_score(neigh, X_train, y_train, cv = 5, scoring = \"neg_mean_squared_error\") ) )\n",
        "#np.sqrt(mean_squared_error(y_test, neigh.predict(X_test)))"
      ],
      "execution_count": null,
      "outputs": []
    },
    {
      "cell_type": "markdown",
      "metadata": {
        "id": "-gk4sQqE0J4Q"
      },
      "source": [
        "#### SHAP"
      ]
    },
    {
      "cell_type": "code",
      "metadata": {
        "id": "4stKspHI0J4T"
      },
      "source": [
        ""
      ],
      "execution_count": null,
      "outputs": []
    },
    {
      "cell_type": "markdown",
      "metadata": {
        "id": "zAxVM-R40XKX"
      },
      "source": [
        "#### Hyperparamter Tuning"
      ]
    },
    {
      "cell_type": "code",
      "metadata": {
        "id": "s08daRE-0XKY"
      },
      "source": [
        ""
      ],
      "execution_count": null,
      "outputs": []
    },
    {
      "cell_type": "markdown",
      "metadata": {
        "id": "pvtU9jGszJGQ"
      },
      "source": [
        "### Keras\n",
        "\n",
        "Apply scaling"
      ]
    },
    {
      "cell_type": "code",
      "metadata": {
        "id": "FDS42j5JzI6p"
      },
      "source": [
        "#!pip install tensorboardcolab\n",
        "# Apply scaling\n",
        "\n",
        "from tensorboardcolab import TensorBoardColab, TensorBoardColabCallback\n",
        "from keras.models import Sequential\n",
        "from keras.layers import Dense, Dropout\n",
        "#tbc=TensorBoardColab()\n",
        "\n",
        "model2 = Sequential()\n",
        "model2.add(Dense(200, input_dim=X_train.shape[1], kernel_initializer='normal', activation='relu'))\n",
        "model2.add(Dense(30, kernel_initializer='normal', activation='relu'))\n",
        "model2.add(Dropout(.10))\n",
        "#model.add(Dense(10, kernel_initializer='normal', activation='relu'))\n",
        "#model.add(Dropout(.10))\n",
        "model2.add(Dense(1, kernel_initializer='normal'))\n",
        "\n",
        "model2.compile(loss='mean_squared_error', optimizer='adam')\n",
        "\n",
        "model2.fit(X_train, y_train, epochs = 18, verbose = 0) #callbacks=[TensorBoardColabCallback(tbc)]\n",
        "pd.DataFrame( {\"Actual\" : np.exp(y_test), \"Predict\" : np.exp(model2.predict(X_test)[0:,0])} ).describe()"
      ],
      "execution_count": null,
      "outputs": []
    },
    {
      "cell_type": "markdown",
      "metadata": {
        "id": "GrzRndbU0LVT"
      },
      "source": [
        "#### SHAP"
      ]
    },
    {
      "cell_type": "code",
      "metadata": {
        "id": "rJm320f60LVU"
      },
      "source": [
        ""
      ],
      "execution_count": null,
      "outputs": []
    },
    {
      "cell_type": "markdown",
      "metadata": {
        "id": "AzzWA0wb0Xt2"
      },
      "source": [
        "#### Hyperparamter Tuning"
      ]
    },
    {
      "cell_type": "code",
      "metadata": {
        "id": "dTxCbRg80Xt4"
      },
      "source": [
        ""
      ],
      "execution_count": null,
      "outputs": []
    },
    {
      "cell_type": "markdown",
      "metadata": {
        "id": "EZEQP33kzN7Y"
      },
      "source": [
        "### Linear\n",
        "\n",
        "inludes - Logistic  \n",
        "Panelty - Ridge, Lasso and ElasticNet  \n"
      ]
    },
    {
      "cell_type": "code",
      "metadata": {
        "id": "K1ROVFVuzNrh"
      },
      "source": [
        ""
      ],
      "execution_count": null,
      "outputs": []
    },
    {
      "cell_type": "markdown",
      "metadata": {
        "id": "IW29Sc0R0LFQ"
      },
      "source": [
        "#### SHAP"
      ]
    },
    {
      "cell_type": "code",
      "metadata": {
        "id": "Ot0Fme0_0LFR"
      },
      "source": [
        ""
      ],
      "execution_count": null,
      "outputs": []
    },
    {
      "cell_type": "markdown",
      "metadata": {
        "id": "yyUOr-dt0YkB"
      },
      "source": [
        "#### Hyperparamter Tuning"
      ]
    },
    {
      "cell_type": "code",
      "metadata": {
        "id": "8jP8Ft880YkC"
      },
      "source": [
        ""
      ],
      "execution_count": null,
      "outputs": []
    },
    {
      "cell_type": "markdown",
      "metadata": {
        "id": "0Q1tsQyYzTYS"
      },
      "source": [
        "## Stacking"
      ]
    },
    {
      "cell_type": "code",
      "metadata": {
        "id": "p_XTtKjLzTMB"
      },
      "source": [
        "#mlextend"
      ],
      "execution_count": null,
      "outputs": []
    }
  ]
}